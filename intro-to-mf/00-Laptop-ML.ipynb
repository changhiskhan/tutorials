{
 "cells": [
  {
   "cell_type": "markdown",
   "id": "119d4e89-4c26-4915-bacc-6b82bd01e166",
   "metadata": {},
   "source": [
    "# (Optional) Lesson 0"
   ]
  },
  {
   "cell_type": "markdown",
   "id": "97666400-856c-4973-9298-dff5231d8031",
   "metadata": {},
   "source": [
    "## What is ML? "
   ]
  },
  {
   "cell_type": "markdown",
   "id": "92a8b44c-cfde-441f-ad27-8b7a641e97dd",
   "metadata": {},
   "source": [
    "## Supervised ML: Classification"
   ]
  },
  {
   "cell_type": "markdown",
   "id": "e9f37892-3d31-4d18-8391-7baeb7e07bc7",
   "metadata": {},
   "source": [
    "### Popular Classification Models and Python Frameworks"
   ]
  },
  {
   "cell_type": "markdown",
   "id": "8e83740f-972e-447f-96ec-798f8a2761ff",
   "metadata": {},
   "source": [
    "### Example Classification Task: Iris Dataset "
   ]
  },
  {
   "cell_type": "code",
   "execution_count": 1,
   "id": "75540916-e824-4bee-ad3f-3e180596783f",
   "metadata": {},
   "outputs": [],
   "source": [
    "# import scikit-learn dataset library\n",
    "from sklearn import datasets\n",
    "\n",
    "# import dataset splitting mechanism\n",
    "from sklearn.model_selection import train_test_split\n",
    "\n",
    "#Load dataset\n",
    "iris = datasets.load_iris()\n",
    "X = iris['data']\n",
    "y = iris['target']\n",
    "X_train, X_test, y_train, y_test = train_test_split(\n",
    "    X, y, test_size=0.2, random_state=42)"
   ]
  },
  {
   "cell_type": "markdown",
   "id": "40466b65-611e-45f1-8eda-3f695b29fabe",
   "metadata": {},
   "source": [
    "#### Random Forests with Scikit-learn\n",
    "\n",
    "NOTE: Minor changes from full stack to make all three examples consistent. "
   ]
  },
  {
   "cell_type": "code",
   "execution_count": 2,
   "id": "773ae8b9-b33b-45f5-af0c-e6619821664c",
   "metadata": {},
   "outputs": [
    {
     "data": {
      "text/plain": [
       "0.98"
      ]
     },
     "execution_count": 2,
     "metadata": {},
     "output_type": "execute_result"
    }
   ],
   "source": [
    "from sklearn.ensemble import RandomForestClassifier\n",
    "\n",
    "# instantiate model\n",
    "clf_rf = RandomForestClassifier(n_estimators=10, \n",
    "                                min_samples_split=2, \n",
    "                                random_state=0)\n",
    "\n",
    "# train model\n",
    "clf_rf.fit(X_train, y_train)\n",
    "\n",
    "# score model\n",
    "rf_accuracy = clf_rf.score(X_test, y_test)\n",
    "rf_accuracy"
   ]
  },
  {
   "cell_type": "markdown",
   "id": "646b042e-c4f6-45c0-b8c9-a0d87cf97886",
   "metadata": {},
   "source": [
    "#### Boosted Trees with XGBoost"
   ]
  },
  {
   "cell_type": "code",
   "execution_count": 3,
   "id": "0d33906b-1d0f-495a-811e-e5a825fef5c3",
   "metadata": {},
   "outputs": [
    {
     "data": {
      "text/plain": [
       "0.98"
      ]
     },
     "execution_count": 3,
     "metadata": {},
     "output_type": "execute_result"
    }
   ],
   "source": [
    "from xgboost import XGBClassifier\n",
    "\n",
    "# instantiate model\n",
    "clf_xgb = XGBClassifier(n_estimators=10, \n",
    "                        random_state=0,\n",
    "                        eval_metric='mlogloss',\n",
    "                        use_label_encoder=False)\n",
    "\n",
    "# train model\n",
    "clf_xgb.fit(X_train, y_train)\n",
    "\n",
    "# score model\n",
    "xgb_accuracy = clf_xgb.score(X_test, y_test)\n",
    "xgb_accuracy"
   ]
  },
  {
   "cell_type": "markdown",
   "id": "bf929c6a-5344-4f01-8aa4-9b3793023726",
   "metadata": {},
   "source": [
    "#### Neural Networks with Keras"
   ]
  },
  {
   "cell_type": "code",
   "execution_count": 4,
   "id": "69268686-1e0b-41a0-9a75-de3b3a62ac57",
   "metadata": {},
   "outputs": [],
   "source": [
    "from tensorflow import keras\n",
    "from scikeras.wrappers import KerasClassifier\n",
    "from sklearn.preprocessing import StandardScaler\n",
    "\n",
    "scaler = StandardScaler()\n",
    "X_train_scaled = scaler.fit_transform(X_train)\n",
    "X_test_scaled = scaler.transform(X_test) # don't want to fit on test data!"
   ]
  },
  {
   "cell_type": "code",
   "execution_count": 5,
   "id": "476493af-3ec1-4c90-b5c2-d3f03c911451",
   "metadata": {},
   "outputs": [],
   "source": [
    "def build_model(hidden_layer_dim, meta):\n",
    "    \n",
    "    # meta is a scikeras argument that will be\n",
    "    # handed a dict containing input metadata\n",
    "    n_features_in_ = meta[\"n_features_in_\"]\n",
    "    X_shape_ = meta[\"X_shape_\"]\n",
    "    n_classes_ = meta[\"n_classes_\"]\n",
    "\n",
    "    # build neural net model \n",
    "    model = keras.models.Sequential()\n",
    "    model.add(keras.layers.Dense(n_features_in_, \n",
    "                                 input_shape=X_shape_[1:]))\n",
    "    model.add(keras.layers.Activation(\"relu\"))\n",
    "    model.add(keras.layers.Dense(hidden_layer_dim))\n",
    "    model.add(keras.layers.Activation(\"relu\"))\n",
    "    model.add(keras.layers.Dense(n_classes_))\n",
    "    model.add(keras.layers.Activation(\"softmax\"))\n",
    "    return model"
   ]
  },
  {
   "cell_type": "code",
   "execution_count": 6,
   "id": "42b416d1-c9e6-4db8-b576-14ceb8dbcf1b",
   "metadata": {},
   "outputs": [
    {
     "name": "stderr",
     "output_type": "stream",
     "text": [
      "2022-07-21 08:29:51.592997: I tensorflow/core/platform/cpu_feature_guard.cc:151] This TensorFlow binary is optimized with oneAPI Deep Neural Network Library (oneDNN) to use the following CPU instructions in performance-critical operations:  SSE4.1 SSE4.2\n",
      "To enable them in other operations, rebuild TensorFlow with the appropriate compiler flags.\n"
     ]
    },
    {
     "data": {
      "text/plain": [
       "0.86"
      ]
     },
     "execution_count": 6,
     "metadata": {},
     "output_type": "execute_result"
    }
   ],
   "source": [
    "# instantiate model\n",
    "clf_keras = KerasClassifier(build_model, \n",
    "                            loss='categorical_crossentropy',\n",
    "                            hidden_layer_dim=100,\n",
    "                            epochs=200,\n",
    "                            verbose=0)\n",
    "\n",
    "# train model\n",
    "clf_keras.fit(X_train_scaled, y_train)\n",
    "\n",
    "# score model\n",
    "keras_accuracy = clf_keras.score(X_test_scaled, y_test)\n",
    "keras_accuracy"
   ]
  }
 ],
 "metadata": {
  "kernelspec": {
   "display_name": "Python 3 (ipykernel)",
   "language": "python",
   "name": "python3"
  },
  "language_info": {
   "codemirror_mode": {
    "name": "ipython",
    "version": 3
   },
   "file_extension": ".py",
   "mimetype": "text/x-python",
   "name": "python",
   "nbconvert_exporter": "python",
   "pygments_lexer": "ipython3",
   "version": "3.9.13"
  }
 },
 "nbformat": 4,
 "nbformat_minor": 5
}
