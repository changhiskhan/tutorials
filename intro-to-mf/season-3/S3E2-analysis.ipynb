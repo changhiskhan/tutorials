{
 "cells": [
  {
   "cell_type": "markdown",
   "id": "efe93f7d-3d13-4a0e-bdd1-8b08c2681860",
   "metadata": {},
   "source": [
    "In addition to using the command line, you can access the results of a card in a Jupyter Notebook. \n",
    "To see this in action, look at the the output of your last flow. \n",
    "Find the run id and place it in the following cell where `run_id` is defined."
   ]
  },
  {
   "cell_type": "code",
   "execution_count": null,
   "id": "81527a4c-8bc0-4600-aa92-014aaf9a5991",
   "metadata": {},
   "outputs": [],
   "source": [
    "# change this based on your command line output\n",
    "run_id = \"YOUR RUN ID HERE\"\n",
    "\n",
    "# keep these fixed\n",
    "flow_name = \"NeuralNetCardFlow\"\n",
    "step_name = \"train\"\n",
    "task_id = 3\n",
    "\n",
    "task = '{}/{}/{}/{}'.format(flow_name, run_id, step_name, task_id)"
   ]
  },
  {
   "cell_type": "markdown",
   "id": "4064beab-a02a-4f4f-9b61-5a0da33bfec3",
   "metadata": {},
   "source": [
    "Now you can use the reference to the `task` to get all of the assoicated cards to render in the notebook:"
   ]
  },
  {
   "cell_type": "code",
   "execution_count": null,
   "id": "dad8b939-c3c5-4c1a-8883-cabdbb7b2c49",
   "metadata": {},
   "outputs": [],
   "source": [
    "from metaflow.cards import get_cards\n",
    "get_cards(task)"
   ]
  }
 ],
 "metadata": {
  "kernelspec": {
   "display_name": "Python 3 (ipykernel)",
   "language": "python",
   "name": "python3"
  },
  "language_info": {
   "codemirror_mode": {
    "name": "ipython",
    "version": 3
   },
   "file_extension": ".py",
   "mimetype": "text/x-python",
   "name": "python",
   "nbconvert_exporter": "python",
   "pygments_lexer": "ipython3",
   "version": "3.9.12"
  }
 },
 "nbformat": 4,
 "nbformat_minor": 5
}
