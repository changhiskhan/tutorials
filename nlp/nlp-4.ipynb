{
 "cells": [
  {
   "cell_type": "raw",
   "id": "d8c49a7a-e52b-42c7-bdaf-7d7db37e0b12",
   "metadata": {},
   "source": [
    "---\n",
    "title: Episode 4\n",
    "slug: /docs/nlp-tutorial-L4\n",
    "tags: [orchestration]\n",
    "sidebar_label: Episode 4\n",
    "id: nlp-tutorial-L4\n",
    "description: A tutorial that uses Keras, Scikit-Learn, and Metaflow to operationalize a machine learning workflow.\n",
    "category: tutorials\n",
    "---"
   ]
  },
  {
   "cell_type": "markdown",
   "id": "5ccc3856-c556-40c1-a920-4f8181153298",
   "metadata": {},
   "source": [
    "### Setup Instructions\n",
    "\n",
    "If you haven't done so, please follow the [setup instructions](./nlp-tutorial-setup) to prepare your environment.  This tutorial will references the python script [branchflow.py](https://github.com/outerbounds/tutorials/blob/main/nlp/branchflow.py)."
   ]
  },
  {
   "cell_type": "markdown",
   "id": "5df04b2b-eab2-49ac-a591-9b43f39a4aaa",
   "metadata": {},
   "source": [
    "#### What You Will Learn\n",
    "At the end of this lesson, you will:\n",
    "    \n",
    "* Learn how to refactor a training code into a Flow.\n",
    "* Learn how to compute steps in parallel with branching, which we have seen before in the [intro tutorial](../docs/intro-tutorial-S2E3).\n",
    "\n",
    "In Lesson 3, you saw how we constructed a basic flow to compute the baseline for our NLP task.  In this lesson, we will learn how to incorporate the model as well as show you how to use branching to compute things in parallel."
   ]
  },
  {
   "cell_type": "raw",
   "id": "67acad84-46fb-4f73-b6d0-73eb19bc73f5",
   "metadata": {},
   "source": [
    "### <NumberHeading number={1}>What is Branching</NumberHeading>"
   ]
  },
  {
   "cell_type": "markdown",
   "id": "359b29d2-e7d3-472f-93b3-3e9d56ff6909",
   "metadata": {},
   "source": [
    "[Branching](https://docs.metaflow.org/metaflow/basics#branch) is a powerful feature in Metaflow that allows you complete steps in parallel instead of a linear fashion.  To demonstrate this feature, we will construct our `baseline` and `train` steps as two branches that will execute in parallel.  It should be noted that anytime you use branching, you also need a `join` step to disambiguate the branches, which you can [read more about here](https://docs.metaflow.org/metaflow/basics#branch)."
   ]
  },
  {
   "cell_type": "raw",
   "id": "678243b6-72ad-45b5-90df-788af715180c",
   "metadata": {},
   "source": [
    "<Wrapper>\n",
    "\n",
    "### <NumberHeading number={2}>Write A Flow</NumberHeading>\n",
    "\n",
    "<Highlight>"
   ]
  },
  {
   "cell_type": "markdown",
   "id": "5a1759df-3122-4ac6-b23c-8ae07a8386b6",
   "metadata": {},
   "source": [
    "In this flow, we will modify the `start`  and `join` steps to achieve branching, as well as add a `train` step that will train our model.\n"
   ]
  },
  {
   "cell_type": "raw",
   "id": "e214fe37-7b83-40e7-9229-d6ae33723a21",
   "metadata": {},
   "source": [
    "</Highlight>"
   ]
  },
  {
   "cell_type": "markdown",
   "id": "85f9c8bd-2a6e-41da-99cd-563dfe53f3e2",
   "metadata": {},
   "source": [
    "Below is a detailed explanation of the changes we are making to our original flow:\n",
    "\n",
    "1. **Create a branching workflow to create a baseline and candidate model in parallel**  in the `baseline` and `train` steps.\n",
    "    - When we call `self.next(self.baseline, self.train)`,  this creates a [branching flow](https://docs.metaflow.org/metaflow/basics#branch) that will allow the `baseline` and  `train` steps to run in parallel.\n",
    "2. **Add a training step** The `train` step uses a neural-bag-of-words model to train a text classifier.  \n",
    "    - We import the `NbowModel` module we created in Lesson 1.\n",
    "    - We save this model in a special way by setting the `model_dict` property of our custom model to `self.model_dict`, which has the effect of storing this data in Metaflow's artifact store, where data is versioned and saved automatically.\n",
    "3. **Add a join step**: In this step, we will load our model using `NbowModel.from_dict(self.model_dict)` as well as disambiguate the data in our branches.\n",
    "    - The join step can disambiguate data by referring to a specific step in the branch. For example, `inputs.start.df` refers to the `start` step, and specifially the `df` artifact stored in that step.\n",
    "    - We print the performance metrics of our model and the baseline in this join step."
   ]
  },
  {
   "cell_type": "raw",
   "id": "88cf1b61-05fd-411c-bc5d-bdad76f77c2b",
   "metadata": {},
   "source": [
    "<RHS>"
   ]
  },
  {
   "cell_type": "code",
   "execution_count": null,
   "id": "8d963d32-b173-40fa-abdd-716dbed09319",
   "metadata": {},
   "outputs": [
    {
     "name": "stdout",
     "output_type": "stream",
     "text": [
      "Overwriting branchflow.py\n"
     ]
    }
   ],
   "source": [
    "%%writefile branchflow.py\n",
    "\n",
    "from metaflow import FlowSpec, step, Flow, current\n",
    "\n",
    "class BranchNLPFlow(FlowSpec):\n",
    "        \n",
    "    @step\n",
    "    def start(self):\n",
    "        \"Read the data\"\n",
    "        import pandas as pd\n",
    "        self.df = pd.read_parquet('train.parquet')\n",
    "        self.valdf = pd.read_parquet('valid.parquet')\n",
    "        print(f'num of rows: {self.df.shape[0]}')\n",
    "        self.next(self.baseline, self.train)\n",
    "\n",
    "    @step\n",
    "    def baseline(self):\n",
    "        \"Compute the baseline\"\n",
    "        from sklearn.metrics import accuracy_score, roc_auc_score\n",
    "        baseline_predictions = [1] * self.valdf.shape[0]\n",
    "        self.base_acc = accuracy_score(self.valdf.labels, baseline_predictions)\n",
    "        self.base_rocauc = roc_auc_score(self.valdf.labels, baseline_predictions)\n",
    "        self.next(self.join)\n",
    "\n",
    "    @step\n",
    "    def train(self):\n",
    "        \"Train the model\"\n",
    "        from model import NbowModel\n",
    "        model = NbowModel(vocab_sz=750)\n",
    "        model.fit(X=self.df['review'], y=self.df['labels'])\n",
    "        self.model_dict = model.model_dict #save model\n",
    "        self.next(self.join)\n",
    "        \n",
    "    @step\n",
    "    def join(self, inputs):\n",
    "        \"Compare the model results with the baseline.\"\n",
    "        import pandas as pd\n",
    "        from model import NbowModel\n",
    "        self.model_dict = inputs.train.model_dict\n",
    "        self.train_df = inputs.train.df\n",
    "        self.val_df = inputs.baseline.valdf\n",
    "        self.base_rocauc = inputs.baseline.base_rocauc\n",
    "        self.base_acc = inputs.baseline.base_acc\n",
    "        model = NbowModel.from_dict(self.model_dict)\n",
    "        \n",
    "        self.model_acc = model.eval_acc(X=self.val_df['review'], labels=self.val_df['labels'])\n",
    "        self.model_rocauc = model.eval_rocauc(X=self.val_df['review'], labels=self.val_df['labels'])\n",
    "        \n",
    "        print(f'Baseline Acccuracy: {self.base_acc:.2%}')\n",
    "        print(f'Baseline AUC: {self.base_rocauc:.2}')\n",
    "        print(f'Model Acccuracy: {self.model_acc:.2%}')\n",
    "        print(f'Model AUC: {self.model_rocauc:.2}')\n",
    "        self.next(self.end)\n",
    "        \n",
    "    @step\n",
    "    def end(self):\n",
    "        print('Flow is complete')\n",
    "        \n",
    "\n",
    "if __name__ == '__main__':\n",
    "    BranchNLPFlow()"
   ]
  },
  {
   "cell_type": "raw",
   "id": "57f0e1a2-6931-44ac-b0fe-b8211b55393e",
   "metadata": {},
   "source": [
    "</RHS>"
   ]
  },
  {
   "cell_type": "raw",
   "id": "3728a897-9ecd-4e2b-b58f-492b25f02b7c",
   "metadata": {},
   "source": [
    "### <NumberHeading number={3}>Run Flow</NumberHeading>"
   ]
  },
  {
   "cell_type": "code",
   "execution_count": null,
   "id": "7126fad4-3299-4b4d-946e-9b3bdf16f1ba",
   "metadata": {},
   "outputs": [
    {
     "name": "stdout",
     "output_type": "stream",
     "text": [
      "\u001b[35m\u001b[1mMetaflow 2.7.1\u001b[0m\u001b[35m\u001b[22m executing \u001b[0m\u001b[31m\u001b[1mBranchNLPFlow\u001b[0m\u001b[35m\u001b[22m\u001b[0m\u001b[35m\u001b[22m for \u001b[0m\u001b[31m\u001b[1muser:hamel\u001b[0m\u001b[35m\u001b[22m\u001b[K\u001b[0m\u001b[35m\u001b[22m\u001b[0m\n",
      "\u001b[35m\u001b[22mValidating your flow...\u001b[K\u001b[0m\u001b[35m\u001b[22m\u001b[0m\n",
      "\u001b[32m\u001b[1m    The graph looks good!\u001b[K\u001b[0m\u001b[32m\u001b[1m\u001b[0m\n",
      "\u001b[35m\u001b[22mRunning pylint...\u001b[K\u001b[0m\u001b[35m\u001b[22m\u001b[0m\n",
      "\u001b[32m\u001b[1m    Pylint is happy!\u001b[K\u001b[0m\u001b[32m\u001b[1m\u001b[0m\n",
      "\u001b[35m2022-08-11 11:02:52.131 \u001b[0m\u001b[1mWorkflow starting (run-id 1660240972126592):\u001b[0m\n",
      "\u001b[35m2022-08-11 11:02:52.142 \u001b[0m\u001b[32m[1660240972126592/start/1 (pid 30908)] \u001b[0m\u001b[1mTask is starting.\u001b[0m\n",
      "\u001b[35m2022-08-11 11:02:53.136 \u001b[0m\u001b[32m[1660240972126592/start/1 (pid 30908)] \u001b[0m\u001b[22mnum of rows: 20377\u001b[0m\n",
      "\u001b[35m2022-08-11 11:02:53.248 \u001b[0m\u001b[32m[1660240972126592/start/1 (pid 30908)] \u001b[0m\u001b[1mTask finished successfully.\u001b[0m\n",
      "\u001b[35m2022-08-11 11:02:53.259 \u001b[0m\u001b[32m[1660240972126592/baseline/2 (pid 30912)] \u001b[0m\u001b[1mTask is starting.\u001b[0m\n",
      "\u001b[35m2022-08-11 11:02:53.269 \u001b[0m\u001b[32m[1660240972126592/train/3 (pid 30913)] \u001b[0m\u001b[1mTask is starting.\u001b[0m\n",
      "\u001b[35m2022-08-11 11:02:54.621 \u001b[0m\u001b[32m[1660240972126592/baseline/2 (pid 30912)] \u001b[0m\u001b[1mTask finished successfully.\u001b[0m\n",
      "\u001b[35m2022-08-11 11:02:55.887 \u001b[0m\u001b[32m[1660240972126592/train/3 (pid 30913)] \u001b[0m\u001b[22m2022-08-11 11:02:55.887139: I tensorflow/core/platform/cpu_feature_guard.cc:151] This TensorFlow binary is optimized with oneAPI Deep Neural Network Library (oneDNN) to use the following CPU instructions in performance-critical operations:  SSE4.1 SSE4.2\u001b[0m\n",
      "\u001b[35m2022-08-11 11:02:56.619 \u001b[0m\u001b[32m[1660240972126592/train/3 (pid 30913)] \u001b[0m\u001b[22mEpoch 1/10\u001b[0m\n",
      "510/510 [==============================] - 1s 1ms/step - loss: 0.3614 - accuracy: 0.8460 - val_loss: 0.2983 - val_accuracy: 0.8737\u001b[0m03 - loss: 0.8357 - accuracy: 0.25\n",
      "\u001b[35m2022-08-11 11:02:57.519 \u001b[0m\u001b[32m[1660240972126592/train/3 (pid 30913)] \u001b[0m\u001b[22mEpoch 2/10\u001b[0m\n",
      "510/510 [==============================] - 1s 1ms/step - loss: 0.2944 - accuracy: 0.8817 - val_loss: 0.2955 - val_accuracy: 0.8759\u001b[0m - loss: 0.2574 - accuracy: 0.87\n",
      "\u001b[35m2022-08-11 11:02:58.047 \u001b[0m\u001b[32m[1660240972126592/train/3 (pid 30913)] \u001b[0m\u001b[22mEpoch 3/10\u001b[0m\n",
      "510/510 [==============================] - 1s 991us/step - loss: 0.2833 - accuracy: 0.8865 - val_loss: 0.2959 - val_accuracy: 0.8768\u001b[0m loss: 0.2888 - accuracy: 0.90\n",
      "\u001b[35m2022-08-11 11:02:58.553 \u001b[0m\u001b[32m[1660240972126592/train/3 (pid 30913)] \u001b[0m\u001b[22mEpoch 4/10\u001b[0m\n",
      "510/510 [==============================] - 1s 996us/step - loss: 0.2744 - accuracy: 0.8897 - val_loss: 0.3004 - val_accuracy: 0.8710\u001b[0m loss: 0.3457 - accuracy: 0.87\n",
      "\u001b[35m2022-08-11 11:02:59.062 \u001b[0m\u001b[32m[1660240972126592/train/3 (pid 30913)] \u001b[0m\u001b[22mEpoch 5/10\u001b[0m\n",
      "510/510 [==============================] - 1s 991us/step - loss: 0.2640 - accuracy: 0.8974 - val_loss: 0.3008 - val_accuracy: 0.8756\u001b[0m loss: 0.1472 - accuracy: 0.93\n",
      "\u001b[35m2022-08-11 11:02:59.568 \u001b[0m\u001b[32m[1660240972126592/train/3 (pid 30913)] \u001b[0m\u001b[22mEpoch 6/10\u001b[0m\n",
      "510/510 [==============================] - 0s 968us/step - loss: 0.2542 - accuracy: 0.9032 - val_loss: 0.3061 - val_accuracy: 0.8732\u001b[0m loss: 0.3837 - accuracy: 0.90\n",
      "\u001b[35m2022-08-11 11:03:00.062 \u001b[0m\u001b[32m[1660240972126592/train/3 (pid 30913)] \u001b[0m\u001b[22mEpoch 7/10\u001b[0m\n",
      "510/510 [==============================] - 0s 961us/step - loss: 0.2469 - accuracy: 0.9088 - val_loss: 0.3086 - val_accuracy: 0.8732\u001b[0m loss: 0.1132 - accuracy: 1.00\n",
      "\u001b[35m2022-08-11 11:03:00.553 \u001b[0m\u001b[32m[1660240972126592/train/3 (pid 30913)] \u001b[0m\u001b[22mEpoch 8/10\u001b[0m\n",
      "510/510 [==============================] - 0s 977us/step - loss: 0.2380 - accuracy: 0.9138 - val_loss: 0.3151 - val_accuracy: 0.8746\u001b[0m loss: 0.2487 - accuracy: 0.84\n",
      "\u001b[35m2022-08-11 11:03:01.052 \u001b[0m\u001b[32m[1660240972126592/train/3 (pid 30913)] \u001b[0m\u001b[22mEpoch 9/10\u001b[0m\n",
      "510/510 [==============================] - 0s 959us/step - loss: 0.2275 - accuracy: 0.9190 - val_loss: 0.3234 - val_accuracy: 0.8719\u001b[0m loss: 0.2535 - accuracy: 0.90\n",
      "\u001b[35m2022-08-11 11:03:01.542 \u001b[0m\u001b[32m[1660240972126592/train/3 (pid 30913)] \u001b[0m\u001b[22mEpoch 10/10\u001b[0m\n",
      "510/510 [==============================] - 1s 1ms/step - loss: 0.2183 - accuracy: 0.9252 - val_loss: 0.3345 - val_accuracy: 0.8641\u001b[0m - loss: 0.1961 - accuracy: 0.93\n",
      "\u001b[35m2022-08-11 11:03:02.180 \u001b[0m\u001b[32m[1660240972126592/train/3 (pid 30913)] \u001b[0m\u001b[22mTo enable them in other operations, rebuild TensorFlow with the appropriate compiler flags.\u001b[0m\n",
      "\u001b[35m2022-08-11 11:03:02.180 \u001b[0m\u001b[32m[1660240972126592/train/3 (pid 30913)] \u001b[0m\u001b[22m2022-08-11 11:03:02.180234: W tensorflow/python/util/util.cc:368] Sets are not currently considered sequences, but this may change in the future, so consider avoiding using them.\u001b[0m\n",
      "\u001b[35m2022-08-11 11:03:02.700 \u001b[0m\u001b[32m[1660240972126592/train/3 (pid 30913)] \u001b[0m\u001b[1mTask finished successfully.\u001b[0m\n",
      "\u001b[35m2022-08-11 11:03:02.711 \u001b[0m\u001b[32m[1660240972126592/join/4 (pid 30921)] \u001b[0m\u001b[1mTask is starting.\u001b[0m\n",
      "\u001b[35m2022-08-11 11:03:05.282 \u001b[0m\u001b[32m[1660240972126592/join/4 (pid 30921)] \u001b[0m\u001b[22m2022-08-11 11:03:05.282336: I tensorflow/core/platform/cpu_feature_guard.cc:151] This TensorFlow binary is optimized with oneAPI Deep Neural Network Library (oneDNN) to use the following CPU instructions in performance-critical operations:  SSE4.1 SSE4.2\u001b[0m\n",
      "\u001b[35m2022-08-11 11:03:05.796 \u001b[0m\u001b[32m[1660240972126592/join/4 (pid 30921)] \u001b[0m\u001b[22mBaseline Acccuracy: 77.30%\u001b[0m\n",
      "\u001b[35m2022-08-11 11:03:05.941 \u001b[0m\u001b[32m[1660240972126592/join/4 (pid 30921)] \u001b[0m\u001b[22mTo enable them in other operations, rebuild TensorFlow with the appropriate compiler flags.\u001b[0m\n",
      "\u001b[35m2022-08-11 11:03:05.941 \u001b[0m\u001b[32m[1660240972126592/join/4 (pid 30921)] \u001b[0m\u001b[22m2022-08-11 11:03:05.941122: W tensorflow/python/util/util.cc:368] Sets are not currently considered sequences, but this may change in the future, so consider avoiding using them.\u001b[0m\n",
      "\u001b[35m2022-08-11 11:03:06.409 \u001b[0m\u001b[32m[1660240972126592/join/4 (pid 30921)] \u001b[0m\u001b[22mBaseline AUC: 0.5\u001b[0m\n",
      "\u001b[35m2022-08-11 11:03:06.410 \u001b[0m\u001b[32m[1660240972126592/join/4 (pid 30921)] \u001b[0m\u001b[22mModel Acccuracy: 87.10%\u001b[0m\n",
      "\u001b[35m2022-08-11 11:03:06.410 \u001b[0m\u001b[32m[1660240972126592/join/4 (pid 30921)] \u001b[0m\u001b[22mModel AUC: 0.91\u001b[0m\n",
      "\u001b[35m2022-08-11 11:03:06.411 \u001b[0m\u001b[32m[1660240972126592/join/4 (pid 30921)] \u001b[0m\u001b[1mTask finished successfully.\u001b[0m\n",
      "\u001b[35m2022-08-11 11:03:06.423 \u001b[0m\u001b[32m[1660240972126592/end/5 (pid 30925)] \u001b[0m\u001b[1mTask is starting.\u001b[0m\n",
      "\u001b[35m2022-08-11 11:03:07.126 \u001b[0m\u001b[32m[1660240972126592/end/5 (pid 30925)] \u001b[0m\u001b[22mFlow is complete\u001b[0m\n",
      "\u001b[35m2022-08-11 11:03:07.209 \u001b[0m\u001b[32m[1660240972126592/end/5 (pid 30925)] \u001b[0m\u001b[1mTask finished successfully.\u001b[0m\n",
      "\u001b[35m2022-08-11 11:03:07.210 \u001b[0m\u001b[1mDone!\u001b[0m\n",
      "\u001b[0m"
     ]
    }
   ],
   "source": [
    "#notest\n",
    "! python branchflow.py run"
   ]
  },
  {
   "cell_type": "raw",
   "id": "7c70273d-fd21-4bd7-b533-41ee299264c4",
   "metadata": {},
   "source": [
    "</Wrapper>"
   ]
  },
  {
   "cell_type": "markdown",
   "id": "e9997bb4-995c-4b5b-8f11-cd396dd49dbe",
   "metadata": {},
   "source": [
    "### Next Steps\n",
    "\n",
    "We can see from the Metaflow logs that our model looks promising in that it is performing better than the baseline!  However, computing the baseline isn't just meant for the logs!  We should use the baseline alongside other tests to gate which models make it to production.\n",
    "\n",
    "In the next lesson, you will learn how to test our models and use tagging to manage which models are promoted to production."
   ]
  },
  {
   "cell_type": "markdown",
   "id": "083d4d6a-7114-4e29-9e6c-8ada275f09e0",
   "metadata": {},
   "source": []
  }
 ],
 "metadata": {
  "kernelspec": {
   "display_name": "Python 3 (ipykernel)",
   "language": "python",
   "name": "python3"
  }
 },
 "nbformat": 4,
 "nbformat_minor": 5
}
