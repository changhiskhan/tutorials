{
 "cells": [
  {
   "cell_type": "raw",
   "id": "d8c49a7a-e52b-42c7-bdaf-7d7db37e0b12",
   "metadata": {},
   "source": [
    "---\n",
    "title: Episode 5\n",
    "slug: /docs/nlp-tutorial-L5\n",
    "tags: [orchestration]\n",
    "sidebar_label: Episode 5\n",
    "id: nlp-tutorial-L5\n",
    "description: A tutorial that uses Keras, Scikit-Learn, and Metaflow to operationalize a machine learning workflow.\n",
    "category: tutorials\n",
    "---"
   ]
  },
  {
   "cell_type": "markdown",
   "id": "41f6f229-fe17-4faa-a491-9c00cf81398e",
   "metadata": {},
   "source": [
    "### Setup Instructions\n",
    "\n",
    "If you haven't done so, please follow the [setup instructions](./nlp-tutorial-setup) to prepare your environment.  This tutorial will reference the python script [nlpflow.py](https://github.com/outerbounds/tutorials/blob/main/nlp/nlpflow.py)."
   ]
  },
  {
   "cell_type": "markdown",
   "id": "5df04b2b-eab2-49ac-a591-9b43f39a4aaa",
   "metadata": {},
   "source": [
    "#### What You Will Learn\n",
    "At the end of this lesson, you will:\n",
    "    \n",
    "* Learn how to collaborate on and organize flows with tagging.\n",
    "* Learn design patterns for testing your models.\n",
    "\n",
    "In Lesson 4, you saw how we trained a model and compared it to a baseline.  However, what if your model is worse than the baseline?  Is there a way to manage this situation programmatically? An important Metaflow feature that can enable this is [Tagging](https://outerbounds.com/blog/five-ways-to-use-the-new-metaflow-tags).  Tagging allows you to categorize and organize flows, which we can use to mark certain models as \"production candidates.”"
   ]
  },
  {
   "cell_type": "raw",
   "id": "67acad84-46fb-4f73-b6d0-73eb19bc73f5",
   "metadata": {},
   "source": [
    "### <NumberHeading number={1}>What is Tagging</NumberHeading>"
   ]
  },
  {
   "cell_type": "markdown",
   "id": "359b29d2-e7d3-472f-93b3-3e9d56ff6909",
   "metadata": {},
   "source": [
    "Tags allow you to express opinions about results of your and your colleagues' work, and, importantly, change those assessments at any time. In contrast to runs and artifacts that represent immutable facts (history shouldn't be rewritten), the way how you interpret those facts may change over time, which is reflected in tags.  This makes tags ideal for managing which models are promoted to the next step in your modeling workflow.\n",
    "\n",
    "You can add a tag to a flow with only a few lines of code.  Below is a snippet of code we will use to add tags in our flow:\n",
    "\n",
    "```python\n",
    "from metaflow import Flow, current\n",
    "run = Flow(current.flow_name)[current.run_id]\n",
    "run.add_tag('deployment_candidate')\n",
    "```"
   ]
  },
  {
   "cell_type": "raw",
   "id": "678243b6-72ad-45b5-90df-788af715180c",
   "metadata": {},
   "source": [
    "<Wrapper>\n",
    "\n",
    "### <NumberHeading number={2}>Write A Flow</NumberHeading>\n",
    "\n",
    "<Highlight>"
   ]
  },
  {
   "cell_type": "markdown",
   "id": "5a1759df-3122-4ac6-b23c-8ae07a8386b6",
   "metadata": {},
   "source": [
    "In this flow, we modify our `end` step to apply the tag `deployment_candidate` if our model passes two tests: (1) a baseline (2) and a smoke test."
   ]
  },
  {
   "cell_type": "raw",
   "id": "e214fe37-7b83-40e7-9229-d6ae33723a21",
   "metadata": {},
   "source": [
    "</Highlight>"
   ]
  },
  {
   "cell_type": "markdown",
   "id": "85f9c8bd-2a6e-41da-99cd-563dfe53f3e2",
   "metadata": {},
   "source": [
    "Concretely, we will add the following to the `end` step:\n",
    "\n",
    "1. **A smoke test** that tests that the model is performing correctly against very easy examples that it should not be getting wrong.  A smoke test is a lightweight way to catch unexpected behaviors in your model, even if your model is beating the baseline. \n",
    "2. **A comparison of the model with the baseline**. We are going to check if our model's AUC score is better than the baseline.  There are more advanced variations on this technique, including using other models for baselines, or requiring that your model performs better than the baseline by a specific margin.  We leave these variations as an excercise for the reader.\n",
    "3. **Add a tag** if our model passes the smoke test and beats the baseline."
   ]
  },
  {
   "cell_type": "raw",
   "id": "88cf1b61-05fd-411c-bc5d-bdad76f77c2b",
   "metadata": {},
   "source": [
    "<RHS>"
   ]
  },
  {
   "cell_type": "code",
   "execution_count": null,
   "id": "8d963d32-b173-40fa-abdd-716dbed09319",
   "metadata": {},
   "outputs": [
    {
     "name": "stdout",
     "output_type": "stream",
     "text": [
      "Overwriting nlpflow.py\n"
     ]
    }
   ],
   "source": [
    "%%writefile nlpflow.py\n",
    "\n",
    "from metaflow import FlowSpec, step, Flow, current\n",
    "\n",
    "class NLPFlow(FlowSpec):\n",
    "        \n",
    "    @step\n",
    "    def start(self):\n",
    "        \"Read the data\"\n",
    "        import pandas as pd\n",
    "        self.df = pd.read_parquet('train.parquet')\n",
    "        self.valdf = pd.read_parquet('valid.parquet')\n",
    "        print(f'num of rows: {self.df.shape[0]}')\n",
    "        self.next(self.baseline, self.train)\n",
    "\n",
    "    @step\n",
    "    def baseline(self):\n",
    "        \"Compute the baseline\"\n",
    "        from sklearn.metrics import accuracy_score, roc_auc_score\n",
    "        baseline_predictions = [1] * self.valdf.shape[0]\n",
    "        self.base_acc = accuracy_score(self.valdf.labels, baseline_predictions)\n",
    "        self.base_rocauc = roc_auc_score(self.valdf.labels, baseline_predictions)\n",
    "        self.next(self.join)\n",
    "\n",
    "    @step\n",
    "    def train(self):\n",
    "        \"Train the model\"\n",
    "        from model import NbowModel\n",
    "        model = NbowModel(vocab_sz=750)\n",
    "        model.fit(X=self.df['review'], y=self.df['labels'])\n",
    "        self.model_dict = model.model_dict #save model\n",
    "        self.next(self.join)\n",
    "        \n",
    "    @step\n",
    "    def join(self, inputs):\n",
    "        \"Compare the model results with the baseline.\"\n",
    "        import pandas as pd\n",
    "        from model import NbowModel\n",
    "        self.model_dict = inputs.train.model_dict\n",
    "        self.train_df = inputs.train.df\n",
    "        self.val_df = inputs.baseline.valdf\n",
    "        self.base_rocauc = inputs.baseline.base_rocauc\n",
    "        self.base_acc = inputs.baseline.base_acc\n",
    "        model = NbowModel.from_dict(self.model_dict)\n",
    "        \n",
    "        self.model_acc = model.eval_acc(X=self.val_df['review'], labels=self.val_df['labels'])\n",
    "        self.model_rocauc = model.eval_rocauc(X=self.val_df['review'], labels=self.val_df['labels'])\n",
    "        \n",
    "        print(f'Baseline Acccuracy: {self.base_acc:.2%}')\n",
    "        print(f'Baseline AUC: {self.base_rocauc:.2}')\n",
    "        print(f'Model Acccuracy: {self.model_acc:.2%}')\n",
    "        print(f'Model AUC: {self.model_rocauc:.2}')\n",
    "        self.next(self.end)\n",
    "        \n",
    "    @step\n",
    "    def end(self):\n",
    "        \"Tags model as a deployment candidate if it beats the baseline and passes smoke tests.\"\n",
    "        from model import NbowModel\n",
    "        model = NbowModel.from_dict(self.model_dict)\n",
    "        \n",
    "        self.beats_baseline = self.model_rocauc > self.base_rocauc\n",
    "        print(f'Model beats baseline (T/F): {self.beats_baseline}')\n",
    "        #smoke test to make sure model is doing the right thing on obvious examples.\n",
    "        _tst_reviews = [\"poor fit its baggy in places where it isn't supposed to be.\",\n",
    "                        \"love it, very high quality and great value\"]\n",
    "        _tst_preds = model.predict(_tst_reviews)\n",
    "        self.passed_smoke_test = _tst_preds[0][0] < .5 and _tst_preds[1][0] > .5\n",
    "        print(f'Model passed smoke test (T/F): {self.passed_smoke_test}')\n",
    "        \n",
    "        if self.beats_baseline and self.passed_smoke_test:\n",
    "            run = Flow(current.flow_name)[current.run_id]\n",
    "            run.add_tag('deployment_candidate')\n",
    "        \n",
    "\n",
    "if __name__ == '__main__':\n",
    "    NLPFlow()"
   ]
  },
  {
   "cell_type": "raw",
   "id": "57f0e1a2-6931-44ac-b0fe-b8211b55393e",
   "metadata": {},
   "source": [
    "</RHS>"
   ]
  },
  {
   "cell_type": "raw",
   "id": "3728a897-9ecd-4e2b-b58f-492b25f02b7c",
   "metadata": {},
   "source": [
    "### <NumberHeading number={3}>Run Flow</NumberHeading>"
   ]
  },
  {
   "cell_type": "code",
   "execution_count": null,
   "id": "7126fad4-3299-4b4d-946e-9b3bdf16f1ba",
   "metadata": {},
   "outputs": [
    {
     "name": "stdout",
     "output_type": "stream",
     "text": [
      "\u001b[35m\u001b[1mMetaflow 2.7.1\u001b[0m\u001b[35m\u001b[22m executing \u001b[0m\u001b[31m\u001b[1mNLPFlow\u001b[0m\u001b[35m\u001b[22m\u001b[0m\u001b[35m\u001b[22m for \u001b[0m\u001b[31m\u001b[1muser:hamel\u001b[0m\u001b[35m\u001b[22m\u001b[K\u001b[0m\u001b[35m\u001b[22m\u001b[0m\n",
      "\u001b[35m\u001b[22mValidating your flow...\u001b[K\u001b[0m\u001b[35m\u001b[22m\u001b[0m\n",
      "\u001b[32m\u001b[1m    The graph looks good!\u001b[K\u001b[0m\u001b[32m\u001b[1m\u001b[0m\n",
      "\u001b[35m\u001b[22mRunning pylint...\u001b[K\u001b[0m\u001b[35m\u001b[22m\u001b[0m\n",
      "\u001b[32m\u001b[1m    Pylint is happy!\u001b[K\u001b[0m\u001b[32m\u001b[1m\u001b[0m\n",
      "\u001b[35m2022-08-11 11:05:39.966 \u001b[0m\u001b[1mWorkflow starting (run-id 1660241139962368):\u001b[0m\n",
      "\u001b[35m2022-08-11 11:05:39.976 \u001b[0m\u001b[32m[1660241139962368/start/1 (pid 31012)] \u001b[0m\u001b[1mTask is starting.\u001b[0m\n",
      "\u001b[35m2022-08-11 11:05:40.887 \u001b[0m\u001b[32m[1660241139962368/start/1 (pid 31012)] \u001b[0m\u001b[22mnum of rows: 20377\u001b[0m\n",
      "\u001b[35m2022-08-11 11:05:40.994 \u001b[0m\u001b[32m[1660241139962368/start/1 (pid 31012)] \u001b[0m\u001b[1mTask finished successfully.\u001b[0m\n",
      "\u001b[35m2022-08-11 11:05:41.005 \u001b[0m\u001b[32m[1660241139962368/baseline/2 (pid 31016)] \u001b[0m\u001b[1mTask is starting.\u001b[0m\n",
      "\u001b[35m2022-08-11 11:05:41.015 \u001b[0m\u001b[32m[1660241139962368/train/3 (pid 31017)] \u001b[0m\u001b[1mTask is starting.\u001b[0m\n",
      "\u001b[35m2022-08-11 11:05:42.300 \u001b[0m\u001b[32m[1660241139962368/baseline/2 (pid 31016)] \u001b[0m\u001b[1mTask finished successfully.\u001b[0m\n",
      "\u001b[35m2022-08-11 11:05:43.527 \u001b[0m\u001b[32m[1660241139962368/train/3 (pid 31017)] \u001b[0m\u001b[22m2022-08-11 11:05:43.527783: I tensorflow/core/platform/cpu_feature_guard.cc:151] This TensorFlow binary is optimized with oneAPI Deep Neural Network Library (oneDNN) to use the following CPU instructions in performance-critical operations:  SSE4.1 SSE4.2\u001b[0m\n",
      "\u001b[35m2022-08-11 11:05:44.211 \u001b[0m\u001b[32m[1660241139962368/train/3 (pid 31017)] \u001b[0m\u001b[22mEpoch 1/10\u001b[0m\n",
      "510/510 [==============================] - 1s 1ms/step - loss: 0.3461 - accuracy: 0.8533 - val_loss: 0.2959 - val_accuracy: 0.8773\u001b[0m52 - loss: 0.6965 - accuracy: 0.46\n",
      "\u001b[35m2022-08-11 11:05:45.068 \u001b[0m\u001b[32m[1660241139962368/train/3 (pid 31017)] \u001b[0m\u001b[22mEpoch 2/10\u001b[0m\n",
      "510/510 [==============================] - 0s 954us/step - loss: 0.2932 - accuracy: 0.8825 - val_loss: 0.2947 - val_accuracy: 0.8768\u001b[0m loss: 0.2771 - accuracy: 0.87\n",
      "\u001b[35m2022-08-11 11:05:45.556 \u001b[0m\u001b[32m[1660241139962368/train/3 (pid 31017)] \u001b[0m\u001b[22mEpoch 3/10\u001b[0m\n",
      "510/510 [==============================] - 0s 959us/step - loss: 0.2804 - accuracy: 0.8904 - val_loss: 0.3022 - val_accuracy: 0.8778\u001b[0m loss: 0.3165 - accuracy: 0.84\n",
      "\u001b[35m2022-08-11 11:05:46.045 \u001b[0m\u001b[32m[1660241139962368/train/3 (pid 31017)] \u001b[0m\u001b[22mEpoch 4/10\u001b[0m\n",
      "510/510 [==============================] - 0s 956us/step - loss: 0.2685 - accuracy: 0.8951 - val_loss: 0.3038 - val_accuracy: 0.8751\u001b[0m loss: 0.1903 - accuracy: 0.96\n",
      "\u001b[35m2022-08-11 11:05:46.533 \u001b[0m\u001b[32m[1660241139962368/train/3 (pid 31017)] \u001b[0m\u001b[22mEpoch 5/10\u001b[0m\n",
      "510/510 [==============================] - 0s 951us/step - loss: 0.2613 - accuracy: 0.8998 - val_loss: 0.3039 - val_accuracy: 0.8773\u001b[0m loss: 0.2267 - accuracy: 0.93\n",
      "\u001b[35m2022-08-11 11:05:47.019 \u001b[0m\u001b[32m[1660241139962368/train/3 (pid 31017)] \u001b[0m\u001b[22mEpoch 6/10\u001b[0m\n",
      "510/510 [==============================] - 0s 965us/step - loss: 0.2564 - accuracy: 0.9029 - val_loss: 0.3055 - val_accuracy: 0.8759\u001b[0m loss: 0.1808 - accuracy: 0.93\n",
      "\u001b[35m2022-08-11 11:05:47.511 \u001b[0m\u001b[32m[1660241139962368/train/3 (pid 31017)] \u001b[0m\u001b[22mEpoch 7/10\u001b[0m\n",
      "510/510 [==============================] - 1s 992us/step - loss: 0.2453 - accuracy: 0.9093 - val_loss: 0.3162 - val_accuracy: 0.8705\u001b[0m loss: 0.1655 - accuracy: 0.9\n",
      "\u001b[35m2022-08-11 11:05:48.018 \u001b[0m\u001b[32m[1660241139962368/train/3 (pid 31017)] \u001b[0m\u001b[22mEpoch 8/10\u001b[0m\n",
      "510/510 [==============================] - 1s 989us/step - loss: 0.2342 - accuracy: 0.9166 - val_loss: 0.3215 - val_accuracy: 0.8714\u001b[0m loss: 0.1503 - accuracy: 1.00\n",
      "\u001b[35m2022-08-11 11:05:48.523 \u001b[0m\u001b[32m[1660241139962368/train/3 (pid 31017)] \u001b[0m\u001b[22mEpoch 9/10\u001b[0m\n",
      "510/510 [==============================] - 0s 954us/step - loss: 0.2259 - accuracy: 0.9201 - val_loss: 0.3308 - val_accuracy: 0.8687\u001b[0m loss: 0.1529 - accuracy: 0.96\n",
      "\u001b[35m2022-08-11 11:05:49.010 \u001b[0m\u001b[32m[1660241139962368/train/3 (pid 31017)] \u001b[0m\u001b[22mEpoch 10/10\u001b[0m\n",
      "510/510 [==============================] - 0s 957us/step - loss: 0.2184 - accuracy: 0.9229 - val_loss: 0.3387 - val_accuracy: 0.8724\u001b[0m loss: 0.2147 - accuracy: 0.93\n",
      "\u001b[35m2022-08-11 11:05:49.623 \u001b[0m\u001b[32m[1660241139962368/train/3 (pid 31017)] \u001b[0m\u001b[22mTo enable them in other operations, rebuild TensorFlow with the appropriate compiler flags.\u001b[0m\n",
      "\u001b[35m2022-08-11 11:05:49.623 \u001b[0m\u001b[32m[1660241139962368/train/3 (pid 31017)] \u001b[0m\u001b[22m2022-08-11 11:05:49.623337: W tensorflow/python/util/util.cc:368] Sets are not currently considered sequences, but this may change in the future, so consider avoiding using them.\u001b[0m\n",
      "\u001b[35m2022-08-11 11:05:50.139 \u001b[0m\u001b[32m[1660241139962368/train/3 (pid 31017)] \u001b[0m\u001b[1mTask finished successfully.\u001b[0m\n",
      "\u001b[35m2022-08-11 11:05:50.151 \u001b[0m\u001b[32m[1660241139962368/join/4 (pid 31024)] \u001b[0m\u001b[1mTask is starting.\u001b[0m\n",
      "\u001b[35m2022-08-11 11:05:52.740 \u001b[0m\u001b[32m[1660241139962368/join/4 (pid 31024)] \u001b[0m\u001b[22m2022-08-11 11:05:52.740745: I tensorflow/core/platform/cpu_feature_guard.cc:151] This TensorFlow binary is optimized with oneAPI Deep Neural Network Library (oneDNN) to use the following CPU instructions in performance-critical operations:  SSE4.1 SSE4.2\u001b[0m\n",
      "\u001b[35m2022-08-11 11:05:53.273 \u001b[0m\u001b[32m[1660241139962368/join/4 (pid 31024)] \u001b[0m\u001b[22mBaseline Acccuracy: 77.30%\u001b[0m\n",
      "\u001b[35m2022-08-11 11:05:53.427 \u001b[0m\u001b[32m[1660241139962368/join/4 (pid 31024)] \u001b[0m\u001b[22mTo enable them in other operations, rebuild TensorFlow with the appropriate compiler flags.\u001b[0m\n",
      "\u001b[35m2022-08-11 11:05:53.427 \u001b[0m\u001b[32m[1660241139962368/join/4 (pid 31024)] \u001b[0m\u001b[22m2022-08-11 11:05:53.427312: W tensorflow/python/util/util.cc:368] Sets are not currently considered sequences, but this may change in the future, so consider avoiding using them.\u001b[0m\n",
      "\u001b[35m2022-08-11 11:05:53.932 \u001b[0m\u001b[32m[1660241139962368/join/4 (pid 31024)] \u001b[0m\u001b[22mBaseline AUC: 0.5\u001b[0m\n",
      "\u001b[35m2022-08-11 11:05:53.933 \u001b[0m\u001b[32m[1660241139962368/join/4 (pid 31024)] \u001b[0m\u001b[22mModel Acccuracy: 87.28%\u001b[0m\n",
      "\u001b[35m2022-08-11 11:05:53.933 \u001b[0m\u001b[32m[1660241139962368/join/4 (pid 31024)] \u001b[0m\u001b[22mModel AUC: 0.91\u001b[0m\n",
      "\u001b[35m2022-08-11 11:05:53.934 \u001b[0m\u001b[32m[1660241139962368/join/4 (pid 31024)] \u001b[0m\u001b[1mTask finished successfully.\u001b[0m\n",
      "\u001b[35m2022-08-11 11:05:53.944 \u001b[0m\u001b[32m[1660241139962368/end/5 (pid 31028)] \u001b[0m\u001b[1mTask is starting.\u001b[0m\n",
      "\u001b[35m2022-08-11 11:05:56.411 \u001b[0m\u001b[32m[1660241139962368/end/5 (pid 31028)] \u001b[0m\u001b[22m2022-08-11 11:05:56.410974: I tensorflow/core/platform/cpu_feature_guard.cc:151] This TensorFlow binary is optimized with oneAPI Deep Neural Network Library (oneDNN) to use the following CPU instructions in performance-critical operations:  SSE4.1 SSE4.2\u001b[0m\n",
      "\u001b[35m2022-08-11 11:05:56.539 \u001b[0m\u001b[32m[1660241139962368/end/5 (pid 31028)] \u001b[0m\u001b[22mModel beats baseline (T/F): True\u001b[0m\n",
      "\u001b[35m2022-08-11 11:05:56.661 \u001b[0m\u001b[32m[1660241139962368/end/5 (pid 31028)] \u001b[0m\u001b[22mModel passed smoke test (T/F): True\u001b[0m\n",
      "\u001b[35m2022-08-11 11:05:56.790 \u001b[0m\u001b[32m[1660241139962368/end/5 (pid 31028)] \u001b[0m\u001b[22mTo enable them in other operations, rebuild TensorFlow with the appropriate compiler flags.\u001b[0m\n",
      "\u001b[35m2022-08-11 11:05:56.790 \u001b[0m\u001b[32m[1660241139962368/end/5 (pid 31028)] \u001b[0m\u001b[22m2022-08-11 11:05:56.790732: W tensorflow/python/util/util.cc:368] Sets are not currently considered sequences, but this may change in the future, so consider avoiding using them.\u001b[0m\n",
      "\u001b[35m2022-08-11 11:05:57.289 \u001b[0m\u001b[32m[1660241139962368/end/5 (pid 31028)] \u001b[0m\u001b[1mTask finished successfully.\u001b[0m\n",
      "\u001b[35m2022-08-11 11:05:57.289 \u001b[0m\u001b[1mDone!\u001b[0m\n",
      "\u001b[0m"
     ]
    }
   ],
   "source": [
    "#notest\n",
    "! python nlpflow.py run"
   ]
  },
  {
   "cell_type": "raw",
   "id": "7c70273d-fd21-4bd7-b533-41ee299264c4",
   "metadata": {},
   "source": [
    "</Wrapper>"
   ]
  },
  {
   "cell_type": "markdown",
   "id": "e9997bb4-995c-4b5b-8f11-cd396dd49dbe",
   "metadata": {},
   "source": [
    "### Next Steps\n",
    "\n",
    "Now that we have tagged our model if it meets our minimum standards, we are now ready to use this model in downstream workflows.  In the next lesson, we will explore different ways you can utilize the model you have trained."
   ]
  },
  {
   "cell_type": "markdown",
   "id": "083d4d6a-7114-4e29-9e6c-8ada275f09e0",
   "metadata": {},
   "source": []
  }
 ],
 "metadata": {
  "kernelspec": {
   "display_name": "Python 3 (ipykernel)",
   "language": "python",
   "name": "python3"
  }
 },
 "nbformat": 4,
 "nbformat_minor": 5
}
