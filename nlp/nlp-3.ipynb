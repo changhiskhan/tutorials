{
 "cells": [
  {
   "cell_type": "raw",
   "id": "d8c49a7a-e52b-42c7-bdaf-7d7db37e0b12",
   "metadata": {},
   "source": [
    "---\n",
    "title: Episode 3\n",
    "slug: /docs/nlp-tutorial-L3\n",
    "tags: [orchestration]\n",
    "sidebar_label: Episode 3\n",
    "id: nlp-tutorial-L3\n",
    "description: A tutorial that uses Keras, Scikit-Learn, and Metaflow to operationalize a machine learning workflow.\n",
    "category: tutorials\n",
    "---"
   ]
  },
  {
   "cell_type": "markdown",
   "id": "0fe3d74d-9ddb-48f0-89a6-8eac16fb5b90",
   "metadata": {},
   "source": [
    "### Setup Instructions\n",
    "\n",
    "If you haven't done so, please follow the [setup instructions](./nlp-tutorial-setup) to prepare your environment.  This tutorial will references the python script [baselineflow.py](https://github.com/outerbounds/tutorials/blob/main/nlp/baselineflow.py)."
   ]
  },
  {
   "cell_type": "markdown",
   "id": "5df04b2b-eab2-49ac-a591-9b43f39a4aaa",
   "metadata": {},
   "source": [
    "#### What You Will Learn\n",
    "At the end of this lesson, you will:\n",
    "    \n",
    "* Learn how to operationalize the tasks of loading data and to compute a baseline.\n",
    "* Learn how to run and view tasks with Metaflow.\n",
    "\n",
    "In Lesson 2, you saw how we constructed a model in preparation for Metaflow.  In this lesson, we will construct a basic flow that reads our data and reports a baseline."
   ]
  },
  {
   "cell_type": "raw",
   "id": "67acad84-46fb-4f73-b6d0-73eb19bc73f5",
   "metadata": {},
   "source": [
    "### <NumberHeading number={1}>Creating A Baseline</NumberHeading>"
   ]
  },
  {
   "cell_type": "markdown",
   "id": "359b29d2-e7d3-472f-93b3-3e9d56ff6909",
   "metadata": {},
   "source": [
    "When creating flows, we recommend starting simple: create a flow that reads your data and reports a baseline metric.  This way, you can ensure you have the right foundation to incorporate your model.  Furthermore, starting simple helps with debugging."
   ]
  },
  {
   "cell_type": "raw",
   "id": "678243b6-72ad-45b5-90df-788af715180c",
   "metadata": {},
   "source": [
    "<Wrapper>\n",
    "\n",
    "### <NumberHeading number={2}>Write A Flow</NumberHeading>\n",
    "\n",
    "<Highlight>"
   ]
  },
  {
   "cell_type": "markdown",
   "id": "5a1759df-3122-4ac6-b23c-8ae07a8386b6",
   "metadata": {},
   "source": [
    "For our baseline flow, we will just have three steps a `start` step where we read the data, a `baseline` step, and an `end` step that will be a placeholder for now."
   ]
  },
  {
   "cell_type": "raw",
   "id": "e214fe37-7b83-40e7-9229-d6ae33723a21",
   "metadata": {},
   "source": [
    "</Highlight>"
   ]
  },
  {
   "cell_type": "markdown",
   "id": "85f9c8bd-2a6e-41da-99cd-563dfe53f3e2",
   "metadata": {},
   "source": [
    "Below is a detailed explanation of each step:\n",
    "\n",
    "1. **Read data from a parquet file** in the `start` step.\n",
    "    - We use pandas to read `train.parquet`\n",
    "    - Notice how we are assigning the training data to `self.df` and the validation data to `self.valdf` this stores the data as an artifact in Metaflow, which means it will be versioned and saved in the artifact store for later retrieval.  Furthermore, this allows you to pass data to another step.  The prerequisite for being able to do this is that the data you are trying to store must be pickleable.\n",
    "    - We log the number of rows in the data.  It is always a good idea to log information about your dataset for debugging. \n",
    "2. **Compute the baseline** in the `baseline` step.\n",
    "     - The `baseline` step records the performance metrics (accuracy and roc auc score) that result from classifying all examples with the majority class.  This will be our baseline against which we evaluate our model.\n",
    "3. **Print the baseline metrics** in the `end` step.  \n",
    "    - This is just a placeholder for now, but also serves to illustrate how you can retrieve artifacts from any step."
   ]
  },
  {
   "cell_type": "raw",
   "id": "88cf1b61-05fd-411c-bc5d-bdad76f77c2b",
   "metadata": {},
   "source": [
    "<RHS>"
   ]
  },
  {
   "cell_type": "code",
   "execution_count": null,
   "id": "8d963d32-b173-40fa-abdd-716dbed09319",
   "metadata": {},
   "outputs": [
    {
     "name": "stdout",
     "output_type": "stream",
     "text": [
      "Overwriting baselineflow.py\n"
     ]
    }
   ],
   "source": [
    "%%writefile baselineflow.py\n",
    "\n",
    "from metaflow import FlowSpec, step, Flow, current\n",
    "\n",
    "class BaselineNLPFlow(FlowSpec):\n",
    "        \n",
    "    @step\n",
    "    def start(self):\n",
    "        \"Read the data\"\n",
    "        import pandas as pd\n",
    "        self.df = pd.read_parquet('train.parquet')\n",
    "        self.valdf = pd.read_parquet('valid.parquet')\n",
    "        print(f'num of rows: {self.df.shape[0]}')\n",
    "        self.next(self.baseline)\n",
    "\n",
    "    @step\n",
    "    def baseline(self):\n",
    "        \"Compute the baseline\"\n",
    "        from sklearn.metrics import accuracy_score, roc_auc_score\n",
    "        baseline_predictions = [1] * self.valdf.shape[0]\n",
    "        self.base_acc = accuracy_score(self.valdf.labels, baseline_predictions)\n",
    "        self.base_rocauc = roc_auc_score(self.valdf.labels, baseline_predictions)\n",
    "        self.next(self.end)\n",
    "        \n",
    "    @step\n",
    "    def end(self):\n",
    "        print(f'Baseline Accuracy: {self.base_acc:.3f}\\nBaseline AUC: {self.base_rocauc}')\n",
    "        \n",
    "\n",
    "if __name__ == '__main__':\n",
    "    BaselineNLPFlow()"
   ]
  },
  {
   "cell_type": "raw",
   "id": "57f0e1a2-6931-44ac-b0fe-b8211b55393e",
   "metadata": {},
   "source": [
    "</RHS>"
   ]
  },
  {
   "cell_type": "raw",
   "id": "b2a92691-e9c8-4ca4-b246-34e7571d1092",
   "metadata": {},
   "source": [
    "### <NumberHeading number={3}>Run Flow</NumberHeading>"
   ]
  },
  {
   "cell_type": "code",
   "execution_count": null,
   "id": "7126fad4-3299-4b4d-946e-9b3bdf16f1ba",
   "metadata": {},
   "outputs": [
    {
     "name": "stdout",
     "output_type": "stream",
     "text": [
      "\u001b[35m\u001b[1mMetaflow 2.7.1\u001b[0m\u001b[35m\u001b[22m executing \u001b[0m\u001b[31m\u001b[1mBaselineNLPFlow\u001b[0m\u001b[35m\u001b[22m\u001b[0m\u001b[35m\u001b[22m for \u001b[0m\u001b[31m\u001b[1muser:hamel\u001b[0m\u001b[35m\u001b[22m\u001b[K\u001b[0m\u001b[35m\u001b[22m\u001b[0m\n",
      "\u001b[35m\u001b[22mValidating your flow...\u001b[K\u001b[0m\u001b[35m\u001b[22m\u001b[0m\n",
      "\u001b[32m\u001b[1m    The graph looks good!\u001b[K\u001b[0m\u001b[32m\u001b[1m\u001b[0m\n",
      "\u001b[35m\u001b[22mRunning pylint...\u001b[K\u001b[0m\u001b[35m\u001b[22m\u001b[0m\n",
      "\u001b[32m\u001b[1m    Pylint is happy!\u001b[K\u001b[0m\u001b[32m\u001b[1m\u001b[0m\n",
      "\u001b[35m2022-08-11 09:09:27.864 \u001b[0m\u001b[1mWorkflow starting (run-id 1660234167860082):\u001b[0m\n",
      "\u001b[35m2022-08-11 09:09:27.876 \u001b[0m\u001b[32m[1660234167860082/start/1 (pid 28912)] \u001b[0m\u001b[1mTask is starting.\u001b[0m\n",
      "\u001b[35m2022-08-11 09:09:28.856 \u001b[0m\u001b[32m[1660234167860082/start/1 (pid 28912)] \u001b[0m\u001b[22mnum of rows: 20377\u001b[0m\n",
      "\u001b[35m2022-08-11 09:09:28.986 \u001b[0m\u001b[32m[1660234167860082/start/1 (pid 28912)] \u001b[0m\u001b[1mTask finished successfully.\u001b[0m\n",
      "\u001b[35m2022-08-11 09:09:28.999 \u001b[0m\u001b[32m[1660234167860082/baseline/2 (pid 28916)] \u001b[0m\u001b[1mTask is starting.\u001b[0m\n",
      "\u001b[35m2022-08-11 09:09:31.060 \u001b[0m\u001b[32m[1660234167860082/baseline/2 (pid 28916)] \u001b[0m\u001b[1mTask finished successfully.\u001b[0m\n",
      "\u001b[35m2022-08-11 09:09:31.072 \u001b[0m\u001b[32m[1660234167860082/end/3 (pid 28920)] \u001b[0m\u001b[1mTask is starting.\u001b[0m\n",
      "\u001b[35m2022-08-11 09:09:31.823 \u001b[0m\u001b[32m[1660234167860082/end/3 (pid 28920)] \u001b[0m\u001b[22mBaseline Accuracy: 0.773\u001b[0m\n",
      "\u001b[35m2022-08-11 09:09:31.908 \u001b[0m\u001b[32m[1660234167860082/end/3 (pid 28920)] \u001b[0m\u001b[22mBaseline AUC: 0.5\u001b[0m\n",
      "\u001b[35m2022-08-11 09:09:31.909 \u001b[0m\u001b[32m[1660234167860082/end/3 (pid 28920)] \u001b[0m\u001b[1mTask finished successfully.\u001b[0m\n",
      "\u001b[35m2022-08-11 09:09:31.910 \u001b[0m\u001b[1mDone!\u001b[0m\n",
      "\u001b[0m"
     ]
    }
   ],
   "source": [
    "#notest\n",
    "! python baselineflow.py run"
   ]
  },
  {
   "cell_type": "raw",
   "id": "7c70273d-fd21-4bd7-b533-41ee299264c4",
   "metadata": {},
   "source": [
    "</Wrapper>"
   ]
  },
  {
   "cell_type": "markdown",
   "id": "e9997bb4-995c-4b5b-8f11-cd396dd49dbe",
   "metadata": {},
   "source": [
    "### Next Steps\n",
    "\n",
    "In the next lesson, you will learn how to incorporate your model into the flow as well as deal with branching for parallel runs."
   ]
  }
 ],
 "metadata": {
  "kernelspec": {
   "display_name": "Python 3 (ipykernel)",
   "language": "python",
   "name": "python3"
  }
 },
 "nbformat": 4,
 "nbformat_minor": 5
}
