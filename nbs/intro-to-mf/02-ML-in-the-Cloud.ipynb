{
 "cells": [
  {
   "cell_type": "markdown",
   "id": "01e6f44b-6ab4-4762-8b12-b68ec82350fb",
   "metadata": {},
   "source": [
    "# (Optional) Lesson 2"
   ]
  },
  {
   "cell_type": "markdown",
   "id": "6bf56c0b-828d-46d4-a8dc-fe424a8243fd",
   "metadata": {},
   "source": [
    "## Before this lesson\n",
    "* Clone this repository\n",
    "    * `git clone https://github.com/outerbounds/tutorials.git`\n",
    "* [Install conda](https://docs.conda.io/projects/conda/en/latest/user-guide/install/index.html)\n",
    "* Install requirements\n",
    "    * From the root of this repository run `conda env create -f env.yml`\n",
    "* Connect to an AWS deployment of Metaflow\n",
    "    * Option A: [AWS Deployment Guide](https://outerbounds.com/docs/aws-deployment-guide)\n",
    "        * `metaflow configure aws` or `metaflow configure kubernetes` depending on your deployment backend\n",
    "        * The development environment needs to have the right cloud credentials to make API calls to the provided cloud services (e.g. `~/.aws/credentials` or IAM instance profile needs to be set up).\n",
    "    * Option B: Request a Sandbox - TODO: Add link\n",
    "* Open this notebook\n",
    "    * `jupyter notebook nbs/intro-to-mf/02-ML-in-the-Cloud.ipynb`"
   ]
  },
  {
   "cell_type": "markdown",
   "id": "59c3661a-545f-497d-be2e-79550901c6b5",
   "metadata": {},
   "source": [
    "## Showcasing\n",
    "\n",
    "* Episode 1: Metaflow Cloud Fundamentals\n",
    "    * 1a. Configuration\n",
    "    * 1b. Cloud environments with `@conda`\n",
    "    * 1c. Cloud compute with `@resources`\n",
    "    * 1d. Parallelism with `foreach`\n",
    "* Episode 2: Running Flows on AWS \n",
    "    * 2a. RandomForestFlow on `@batch`\n",
    "    * 2b. GradientBoostedTreesFlow on `@batch`\n",
    "    * 2c. NeuralNetFlow on `@batch(image=\"scikeras_image\")`\n",
    "* Episode 3: Analyzing Cloud Flows\n",
    "    * 3a. `metaflow.cards` - same as locally\n",
    "    * 3b. Using the Client API - use from local NB environment"
   ]
  },
  {
   "cell_type": "markdown",
   "id": "b044621a-ce16-490e-a9bf-ae6565efe2c2",
   "metadata": {},
   "source": [
    "## Why the Cloud?"
   ]
  },
  {
   "cell_type": "markdown",
   "id": "c517e61f-447f-40c7-973a-d8402723de17",
   "metadata": {},
   "source": [
    "## Configuring your Cloud Credentials\n",
    "Assume they have access to K8s cluster or AWS Batch Queue."
   ]
  },
  {
   "cell_type": "markdown",
   "id": "ce2c27da-dcea-45c1-a7d3-036eb9718906",
   "metadata": {},
   "source": [
    "## Foreach Cloud Flow\n",
    "\n",
    "Random Forest, XGBoost, and Keras in parallel Batch jobs.\n",
    "* Evaluated the models in parallel. \n",
    "* Evaluate the models in different environments. \n",
    "    * Conda for first and docker image for scikeras one\n",
    "* Read stats on each model and visualize in cards and with Client API."
   ]
  }
 ],
 "metadata": {
  "kernelspec": {
   "display_name": "Python 3 (ipykernel)",
   "language": "python",
   "name": "python3"
  },
  "language_info": {
   "codemirror_mode": {
    "name": "ipython",
    "version": 3
   },
   "file_extension": ".py",
   "mimetype": "text/x-python",
   "name": "python",
   "nbconvert_exporter": "python",
   "pygments_lexer": "ipython3",
   "version": "3.9.13"
  }
 },
 "nbformat": 4,
 "nbformat_minor": 5
}
