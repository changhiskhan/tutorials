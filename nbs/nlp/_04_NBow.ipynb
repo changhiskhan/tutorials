{
 "cells": [
  {
   "cell_type": "raw",
   "id": "59050af7-c68f-4558-bf23-61a845e1110d",
   "metadata": {},
   "source": [
    "---\n",
    "title: Scratch - NLP\n",
    "---"
   ]
  },
  {
   "cell_type": "markdown",
   "id": "0b2849f2-3918-47ca-9bed-554cd745c075",
   "metadata": {},
   "source": [
    "## Background\n",
    "\n",
    "We are going to build a model that does classifies customer reviews as positive or negative sentiment, using the [Women's E-Commerce Clothing Reviews Dataset](https://www.kaggle.com/datasets/nicapotato/womens-ecommerce-clothing-reviews).  We will walk you through how we would organize this task in Metaflow.  Concretely, we will demonstrate the following steps:\n",
    "\n",
    "1. Read data from a parquet file\n",
    "2. Show a branching workflow to record a baseline and train a model in parallel.  \n",
    "3. Evaluate The Model on a holdout set \n",
    "4. Retrieve the correct version of our model artifacts to perform inference and write our predictions to a parquet file."
   ]
  },
  {
   "cell_type": "code",
   "execution_count": 1,
   "id": "59a085bc-fe2c-40f2-8032-e4546cc304f5",
   "metadata": {},
   "outputs": [],
   "source": [
    "import tensorflow as tf\n",
    "import pandas as pd\n",
    "import numpy as np\n",
    "from tensorflow.keras.utils import set_random_seed\n",
    "from tensorflow.keras import layers, optimizers, regularizers\n",
    "from sklearn.metrics import accuracy_score, roc_auc_score\n",
    "from sklearn.feature_extraction.text import CountVectorizer"
   ]
  },
  {
   "cell_type": "code",
   "execution_count": 2,
   "id": "491ca758-8a45-45be-aaab-b15ae19d00f4",
   "metadata": {},
   "outputs": [],
   "source": [
    "set_random_seed(2022)"
   ]
  },
  {
   "cell_type": "markdown",
   "id": "757f0f35-14e0-4820-9317-1d1baae5d0a9",
   "metadata": {},
   "source": [
    "## Dataset \n",
    "\n",
    "Before we get started with metaflow, lets take a brief look at the dataset.  We have a table of reviews with a label of either `0` or `1` that means:\n",
    "\n",
    "- 0: Negative sentiment\n",
    "- 1: Positive sentiment"
   ]
  },
  {
   "cell_type": "code",
   "execution_count": 3,
   "id": "5d623af9-27ea-47ca-ae5f-db2bfbc189a4",
   "metadata": {},
   "outputs": [
    {
     "name": "stdout",
     "output_type": "stream",
     "text": [
      "num of rows: 20377\n"
     ]
    }
   ],
   "source": [
    "df = pd.read_parquet('train.parquet')\n",
    "print(f'num of rows: {df.shape[0]}')"
   ]
  },
  {
   "cell_type": "code",
   "execution_count": 4,
   "id": "4bd9c69a-3095-4434-8044-79f67c95c912",
   "metadata": {},
   "outputs": [
    {
     "data": {
      "text/html": [
       "<div>\n",
       "<style scoped>\n",
       "    .dataframe tbody tr th:only-of-type {\n",
       "        vertical-align: middle;\n",
       "    }\n",
       "\n",
       "    .dataframe tbody tr th {\n",
       "        vertical-align: top;\n",
       "    }\n",
       "\n",
       "    .dataframe thead th {\n",
       "        text-align: right;\n",
       "    }\n",
       "</style>\n",
       "<table border=\"1\" class=\"dataframe\">\n",
       "  <thead>\n",
       "    <tr style=\"text-align: right;\">\n",
       "      <th></th>\n",
       "      <th>labels</th>\n",
       "      <th>review</th>\n",
       "    </tr>\n",
       "  </thead>\n",
       "  <tbody>\n",
       "    <tr>\n",
       "      <th>0</th>\n",
       "      <td>0</td>\n",
       "      <td>Odd fit: I wanted to love this sweater but the...</td>\n",
       "    </tr>\n",
       "    <tr>\n",
       "      <th>1</th>\n",
       "      <td>1</td>\n",
       "      <td>Very comfy dress: The quality and material of ...</td>\n",
       "    </tr>\n",
       "    <tr>\n",
       "      <th>2</th>\n",
       "      <td>0</td>\n",
       "      <td>Fits nicely but fabric a bit thin: I ordered t...</td>\n",
       "    </tr>\n",
       "    <tr>\n",
       "      <th>3</th>\n",
       "      <td>1</td>\n",
       "      <td>Great fit: Love these jeans, fit and style... ...</td>\n",
       "    </tr>\n",
       "    <tr>\n",
       "      <th>4</th>\n",
       "      <td>0</td>\n",
       "      <td>Stretches out, washes poorly. wish i could ret...</td>\n",
       "    </tr>\n",
       "  </tbody>\n",
       "</table>\n",
       "</div>"
      ],
      "text/plain": [
       "   labels                                             review\n",
       "0       0  Odd fit: I wanted to love this sweater but the...\n",
       "1       1  Very comfy dress: The quality and material of ...\n",
       "2       0  Fits nicely but fabric a bit thin: I ordered t...\n",
       "3       1  Great fit: Love these jeans, fit and style... ...\n",
       "4       0  Stretches out, washes poorly. wish i could ret..."
      ]
     },
     "execution_count": 4,
     "metadata": {},
     "output_type": "execute_result"
    }
   ],
   "source": [
    "df.head()"
   ]
  },
  {
   "cell_type": "markdown",
   "id": "a9788563-e3d7-4516-8347-847789e0d793",
   "metadata": {},
   "source": [
    "## Baseline Metrics\n",
    "\n",
    "In this dataset, the most commmon label is postive sentiment.  Our baseline model should be able to beat the baseline"
   ]
  },
  {
   "cell_type": "code",
   "execution_count": 5,
   "id": "5bf4014d-9944-4eea-afad-b4b076fd7567",
   "metadata": {},
   "outputs": [
    {
     "name": "stdout",
     "output_type": "stream",
     "text": [
      "Baseline Acccuracy: 77.04%\n",
      "Baseline AUC: 0.5\n"
     ]
    }
   ],
   "source": [
    "baseline_predictions = [1] * df.shape[0] # always predict the most prevalent class\n",
    "\n",
    "print(f'Baseline Acccuracy: {accuracy_score(df.labels, baseline_predictions):.2%}')\n",
    "print(f'Baseline AUC: {roc_auc_score(df.labels, baseline_predictions)}')"
   ]
  },
  {
   "cell_type": "code",
   "execution_count": null,
   "id": "616f73c8-8dcb-4e58-8f8c-25211ab7c676",
   "metadata": {},
   "outputs": [],
   "source": []
  },
  {
   "cell_type": "markdown",
   "id": "ec9ddb40-d9b3-4413-b438-7ef76743ea25",
   "metadata": {},
   "source": [
    "## Train Model\n",
    "\n",
    "Preprocessing"
   ]
  },
  {
   "cell_type": "code",
   "execution_count": 6,
   "id": "2efc81e8-f8aa-4cfc-b5d8-0330c7b709ac",
   "metadata": {},
   "outputs": [],
   "source": [
    "cv = CountVectorizer(min_df=.005, max_df = .75, stop_words='english', strip_accents='ascii', )"
   ]
  },
  {
   "cell_type": "code",
   "execution_count": 7,
   "id": "37c5d3ba-8be7-43a4-aaa0-03f3f26431b1",
   "metadata": {},
   "outputs": [
    {
     "name": "stdout",
     "output_type": "stream",
     "text": [
      "766\n"
     ]
    }
   ],
   "source": [
    "res = cv.fit_transform(df['review'])\n",
    "print(len(cv.vocabulary_))"
   ]
  },
  {
   "cell_type": "markdown",
   "id": "5c848c6a-839d-4c29-b600-8b98677fc966",
   "metadata": {},
   "source": [
    " A Nueral-Bag-Of-Words Model"
   ]
  },
  {
   "cell_type": "code",
   "execution_count": 8,
   "id": "b95113b2-4552-4c7f-8d7c-4cde5b50db98",
   "metadata": {},
   "outputs": [
    {
     "name": "stderr",
     "output_type": "stream",
     "text": [
      "2022-07-19 15:27:53.892958: I tensorflow/core/platform/cpu_feature_guard.cc:151] This TensorFlow binary is optimized with oneAPI Deep Neural Network Library (oneDNN) to use the following CPU instructions in performance-critical operations:  SSE4.1 SSE4.2\n",
      "To enable them in other operations, rebuild TensorFlow with the appropriate compiler flags.\n"
     ]
    }
   ],
   "source": [
    "inputs = tf.keras.Input(shape=(len(cv.vocabulary_),), name='Input')\n",
    "x = layers.Dropout(0.10)(inputs)\n",
    "x = layers.Dense(15, activation=\"relu\", kernel_regularizer=regularizers.L1L2(l1=1e-5, l2=1e-4))(x)\n",
    "predictions = layers.Dense(1, activation=\"sigmoid\",)(x)\n",
    "model = tf.keras.Model(inputs, predictions)\n",
    "\n",
    "# Compile the model with binary crossentropy loss and an adam optimizer.\n",
    "opt = optimizers.Adam(learning_rate=0.002)\n",
    "model.compile(loss=\"binary_crossentropy\", optimizer=opt, metrics=[\"accuracy\"])"
   ]
  },
  {
   "cell_type": "code",
   "execution_count": 9,
   "id": "a3accff1-70bb-4a94-8228-9a288efa0d61",
   "metadata": {},
   "outputs": [
    {
     "name": "stdout",
     "output_type": "stream",
     "text": [
      "Epoch 1/10\n",
      "510/510 [==============================] - 1s 1ms/step - loss: 0.3523 - accuracy: 0.8507 - val_loss: 0.2988 - val_accuracy: 0.8754\n",
      "Epoch 2/10\n",
      "510/510 [==============================] - 1s 996us/step - loss: 0.2945 - accuracy: 0.8818 - val_loss: 0.2956 - val_accuracy: 0.8771\n",
      "Epoch 3/10\n",
      "510/510 [==============================] - 1s 985us/step - loss: 0.2860 - accuracy: 0.8840 - val_loss: 0.2989 - val_accuracy: 0.8768\n",
      "Epoch 4/10\n",
      "510/510 [==============================] - 1s 991us/step - loss: 0.2761 - accuracy: 0.8891 - val_loss: 0.2951 - val_accuracy: 0.8803\n",
      "Epoch 5/10\n",
      "510/510 [==============================] - 1s 985us/step - loss: 0.2676 - accuracy: 0.8956 - val_loss: 0.2991 - val_accuracy: 0.8759\n",
      "Epoch 6/10\n",
      "510/510 [==============================] - 1s 1ms/step - loss: 0.2623 - accuracy: 0.9005 - val_loss: 0.2996 - val_accuracy: 0.8793\n",
      "Epoch 7/10\n",
      "510/510 [==============================] - 1s 1ms/step - loss: 0.2549 - accuracy: 0.9056 - val_loss: 0.3044 - val_accuracy: 0.8754\n",
      "Epoch 8/10\n",
      "510/510 [==============================] - 1s 984us/step - loss: 0.2472 - accuracy: 0.9109 - val_loss: 0.3137 - val_accuracy: 0.8759\n",
      "Epoch 9/10\n",
      "510/510 [==============================] - 1s 998us/step - loss: 0.2376 - accuracy: 0.9134 - val_loss: 0.3151 - val_accuracy: 0.8776\n",
      "Epoch 10/10\n",
      "510/510 [==============================] - 1s 1ms/step - loss: 0.2298 - accuracy: 0.9187 - val_loss: 0.3276 - val_accuracy: 0.8744\n"
     ]
    },
    {
     "data": {
      "text/plain": [
       "<keras.callbacks.History at 0x7f8268975220>"
      ]
     },
     "execution_count": 9,
     "metadata": {},
     "output_type": "execute_result"
    }
   ],
   "source": [
    "model.fit(x=res.toarray(), \n",
    "          y=df['labels'],\n",
    "          batch_size=32, epochs=10, validation_split=.2)"
   ]
  },
  {
   "cell_type": "markdown",
   "id": "000625ae-64a4-4597-93b7-409f3b1a68c1",
   "metadata": {},
   "source": [
    "## Make Predictions\n",
    "\n",
    "These are toy examples:"
   ]
  },
  {
   "cell_type": "code",
   "execution_count": 22,
   "id": "d59886f4-94bb-4d82-ab67-5cfce571b230",
   "metadata": {},
   "outputs": [
    {
     "data": {
      "text/plain": [
       "array([[0.02719706],\n",
       "       [0.9402847 ]], dtype=float32)"
      ]
     },
     "execution_count": 22,
     "metadata": {},
     "output_type": "execute_result"
    }
   ],
   "source": [
    "review = [\"poor fit its baggy in places where it isn't supposed to be.\", # should be negative\n",
    "          \"love it, very high quality and great value\"]                  #should be positive\n",
    "toy_preds = model.predict(cv.transform(review).toarray())\n",
    "toy_preds"
   ]
  },
  {
   "cell_type": "code",
   "execution_count": 24,
   "id": "021f6f08-f573-4e38-a95b-e8b895495cb6",
   "metadata": {},
   "outputs": [
    {
     "data": {
      "text/plain": [
       "True"
      ]
     },
     "execution_count": 24,
     "metadata": {},
     "output_type": "execute_result"
    }
   ],
   "source": [
    "toy_preds[0][0] < .5 and "
   ]
  },
  {
   "cell_type": "markdown",
   "id": "9019e16a-6635-49c0-9968-3398c58ed649",
   "metadata": {},
   "source": [
    "## Evaluate Model On Holdout Set"
   ]
  },
  {
   "cell_type": "code",
   "execution_count": 11,
   "id": "623f8313-f64e-494f-8d70-d40da57e32a5",
   "metadata": {},
   "outputs": [],
   "source": [
    "hdf = pd.read_parquet('predict.parquet')\n",
    "predictions = model.predict(cv.transform(hdf['review']).toarray())\n",
    "labels = hdf['labels']"
   ]
  },
  {
   "cell_type": "code",
   "execution_count": 12,
   "id": "d73cc031-a5b1-4cf8-96aa-d66af153a0ae",
   "metadata": {},
   "outputs": [
    {
     "data": {
      "text/plain": [
       "0.8776501766784452"
      ]
     },
     "execution_count": 12,
     "metadata": {},
     "output_type": "execute_result"
    }
   ],
   "source": [
    "accuracy_score(labels, predictions>.5)"
   ]
  },
  {
   "cell_type": "code",
   "execution_count": 25,
   "id": "f29dbc41-047a-4987-9f81-bbe3f333d7f0",
   "metadata": {},
   "outputs": [
    {
     "ename": "NameError",
     "evalue": "name 'labels' is not defined",
     "output_type": "error",
     "traceback": [
      "\u001b[0;31m---------------------------------------------------------------------------\u001b[0m",
      "\u001b[0;31mNameError\u001b[0m                                 Traceback (most recent call last)",
      "Input \u001b[0;32mIn [25]\u001b[0m, in \u001b[0;36m<cell line: 1>\u001b[0;34m()\u001b[0m\n\u001b[0;32m----> 1\u001b[0m roc_auc_score(\u001b[43mlabels\u001b[49m, predictions)\n",
      "\u001b[0;31mNameError\u001b[0m: name 'labels' is not defined"
     ]
    }
   ],
   "source": [
    "roc_auc_score(labels, predictions)"
   ]
  },
  {
   "cell_type": "code",
   "execution_count": 26,
   "id": "59c33111-511f-4057-aa4f-87cb638a02d4",
   "metadata": {},
   "outputs": [
    {
     "data": {
      "text/html": [
       "<div>\n",
       "<style scoped>\n",
       "    .dataframe tbody tr th:only-of-type {\n",
       "        vertical-align: middle;\n",
       "    }\n",
       "\n",
       "    .dataframe tbody tr th {\n",
       "        vertical-align: top;\n",
       "    }\n",
       "\n",
       "    .dataframe thead th {\n",
       "        text-align: right;\n",
       "    }\n",
       "</style>\n",
       "<table border=\"1\" class=\"dataframe\">\n",
       "  <thead>\n",
       "    <tr style=\"text-align: right;\">\n",
       "      <th></th>\n",
       "      <th>labels</th>\n",
       "      <th>review</th>\n",
       "    </tr>\n",
       "  </thead>\n",
       "  <tbody>\n",
       "    <tr>\n",
       "      <th>0</th>\n",
       "      <td>0</td>\n",
       "      <td>Odd fit: I wanted to love this sweater but the...</td>\n",
       "    </tr>\n",
       "    <tr>\n",
       "      <th>1</th>\n",
       "      <td>1</td>\n",
       "      <td>Very comfy dress: The quality and material of ...</td>\n",
       "    </tr>\n",
       "    <tr>\n",
       "      <th>2</th>\n",
       "      <td>0</td>\n",
       "      <td>Fits nicely but fabric a bit thin: I ordered t...</td>\n",
       "    </tr>\n",
       "    <tr>\n",
       "      <th>3</th>\n",
       "      <td>1</td>\n",
       "      <td>Great fit: Love these jeans, fit and style... ...</td>\n",
       "    </tr>\n",
       "    <tr>\n",
       "      <th>4</th>\n",
       "      <td>0</td>\n",
       "      <td>Stretches out, washes poorly. wish i could ret...</td>\n",
       "    </tr>\n",
       "    <tr>\n",
       "      <th>...</th>\n",
       "      <td>...</td>\n",
       "      <td>...</td>\n",
       "    </tr>\n",
       "    <tr>\n",
       "      <th>20372</th>\n",
       "      <td>1</td>\n",
       "      <td>Love: This sweater just arrived in my mailbox ...</td>\n",
       "    </tr>\n",
       "    <tr>\n",
       "      <th>20373</th>\n",
       "      <td>1</td>\n",
       "      <td>Classic and sophisticated: I recently purchase...</td>\n",
       "    </tr>\n",
       "    <tr>\n",
       "      <th>20374</th>\n",
       "      <td>1</td>\n",
       "      <td>nan: This tunic is a wonderfully updated look....</td>\n",
       "    </tr>\n",
       "    <tr>\n",
       "      <th>20375</th>\n",
       "      <td>1</td>\n",
       "      <td>Great staple: I've ordered a pair of these fro...</td>\n",
       "    </tr>\n",
       "    <tr>\n",
       "      <th>20376</th>\n",
       "      <td>0</td>\n",
       "      <td>Beautiful but delicate: This blouse runs large...</td>\n",
       "    </tr>\n",
       "  </tbody>\n",
       "</table>\n",
       "<p>40754 rows × 2 columns</p>\n",
       "</div>"
      ],
      "text/plain": [
       "       labels                                             review\n",
       "0           0  Odd fit: I wanted to love this sweater but the...\n",
       "1           1  Very comfy dress: The quality and material of ...\n",
       "2           0  Fits nicely but fabric a bit thin: I ordered t...\n",
       "3           1  Great fit: Love these jeans, fit and style... ...\n",
       "4           0  Stretches out, washes poorly. wish i could ret...\n",
       "...       ...                                                ...\n",
       "20372       1  Love: This sweater just arrived in my mailbox ...\n",
       "20373       1  Classic and sophisticated: I recently purchase...\n",
       "20374       1  nan: This tunic is a wonderfully updated look....\n",
       "20375       1  Great staple: I've ordered a pair of these fro...\n",
       "20376       0  Beautiful but delicate: This blouse runs large...\n",
       "\n",
       "[40754 rows x 2 columns]"
      ]
     },
     "execution_count": 26,
     "metadata": {},
     "output_type": "execute_result"
    }
   ],
   "source": [
    "pd.concat([df, df])"
   ]
  },
  {
   "cell_type": "code",
   "execution_count": 27,
   "id": "3cf5b825-70ed-4a53-91d6-3830c2e59c47",
   "metadata": {},
   "outputs": [
    {
     "data": {
      "text/plain": [
       "\u001b[0;31mSignature:\u001b[0m \u001b[0mmodel\u001b[0m\u001b[0;34m.\u001b[0m\u001b[0mreset_states\u001b[0m\u001b[0;34m(\u001b[0m\u001b[0;34m)\u001b[0m\u001b[0;34m\u001b[0m\u001b[0;34m\u001b[0m\u001b[0m\n",
       "\u001b[0;31mDocstring:\u001b[0m <no docstring>\n",
       "\u001b[0;31mFile:\u001b[0m      ~/opt/anaconda3/envs/full-stack-metaflow/lib/python3.8/site-packages/keras/engine/training.py\n",
       "\u001b[0;31mType:\u001b[0m      method\n"
      ]
     },
     "metadata": {},
     "output_type": "display_data"
    }
   ],
   "source": [
    "?model.re"
   ]
  },
  {
   "cell_type": "code",
   "execution_count": 28,
   "id": "0749c2cb-683f-48b5-92da-7a8413324d72",
   "metadata": {},
   "outputs": [
    {
     "ename": "ImportError",
     "evalue": "cannot import name 'K' from 'tensorflow.keras' (/Users/hamel/opt/anaconda3/envs/full-stack-metaflow/lib/python3.8/site-packages/keras/api/_v2/keras/__init__.py)",
     "output_type": "error",
     "traceback": [
      "\u001b[0;31m---------------------------------------------------------------------------\u001b[0m",
      "\u001b[0;31mImportError\u001b[0m                               Traceback (most recent call last)",
      "Input \u001b[0;32mIn [28]\u001b[0m, in \u001b[0;36m<cell line: 1>\u001b[0;34m()\u001b[0m\n\u001b[0;32m----> 1\u001b[0m \u001b[38;5;28;01mfrom\u001b[39;00m \u001b[38;5;21;01mtensorflow\u001b[39;00m\u001b[38;5;21;01m.\u001b[39;00m\u001b[38;5;21;01mkeras\u001b[39;00m \u001b[38;5;28;01mimport\u001b[39;00m K\n",
      "\u001b[0;31mImportError\u001b[0m: cannot import name 'K' from 'tensorflow.keras' (/Users/hamel/opt/anaconda3/envs/full-stack-metaflow/lib/python3.8/site-packages/keras/api/_v2/keras/__init__.py)"
     ]
    }
   ],
   "source": [
    "from tensorflow.keras import K"
   ]
  },
  {
   "cell_type": "code",
   "execution_count": null,
   "id": "a6574638-9c2d-421b-99d3-cf8d35253492",
   "metadata": {},
   "outputs": [],
   "source": []
  }
 ],
 "metadata": {
  "kernelspec": {
   "display_name": "Python [conda env:full-stack-metaflow] *",
   "language": "python",
   "name": "conda-env-full-stack-metaflow-py"
  },
  "language_info": {
   "codemirror_mode": {
    "name": "ipython",
    "version": 3
   },
   "file_extension": ".py",
   "mimetype": "text/x-python",
   "name": "python",
   "nbconvert_exporter": "python",
   "pygments_lexer": "ipython3",
   "version": "3.8.13"
  },
  "vscode": {
   "interpreter": {
    "hash": "42fd40e048e0585f88ec242f050f7ef0895cf845a8dd1159352394e5826cd102"
   }
  }
 },
 "nbformat": 4,
 "nbformat_minor": 5
}
