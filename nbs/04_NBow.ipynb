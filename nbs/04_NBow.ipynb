{
 "cells": [
  {
   "cell_type": "raw",
   "id": "59050af7-c68f-4558-bf23-61a845e1110d",
   "metadata": {},
   "source": [
    "---\n",
    "title: NLP\n",
    "---"
   ]
  },
  {
   "cell_type": "code",
   "execution_count": 1,
   "id": "59a085bc-fe2c-40f2-8032-e4546cc304f5",
   "metadata": {},
   "outputs": [],
   "source": [
    "import tensorflow as tf\n",
    "import pandas as pd\n",
    "import numpy as np\n",
    "df = pd.read_parquet('train.parquet')"
   ]
  },
  {
   "cell_type": "markdown",
   "id": "757f0f35-14e0-4820-9317-1d1baae5d0a9",
   "metadata": {},
   "source": [
    "## Data\n",
    "\n",
    "- 0: Negative sentiment\n",
    "- 1: Positive sentiment"
   ]
  },
  {
   "cell_type": "code",
   "execution_count": 2,
   "id": "5d623af9-27ea-47ca-ae5f-db2bfbc189a4",
   "metadata": {},
   "outputs": [
    {
     "data": {
      "text/html": [
       "<div>\n",
       "<style scoped>\n",
       "    .dataframe tbody tr th:only-of-type {\n",
       "        vertical-align: middle;\n",
       "    }\n",
       "\n",
       "    .dataframe tbody tr th {\n",
       "        vertical-align: top;\n",
       "    }\n",
       "\n",
       "    .dataframe thead th {\n",
       "        text-align: right;\n",
       "    }\n",
       "</style>\n",
       "<table border=\"1\" class=\"dataframe\">\n",
       "  <thead>\n",
       "    <tr style=\"text-align: right;\">\n",
       "      <th></th>\n",
       "      <th>labels</th>\n",
       "      <th>review</th>\n",
       "    </tr>\n",
       "  </thead>\n",
       "  <tbody>\n",
       "    <tr>\n",
       "      <th>0</th>\n",
       "      <td>0</td>\n",
       "      <td>Odd fit: I wanted to love this sweater but the...</td>\n",
       "    </tr>\n",
       "    <tr>\n",
       "      <th>1</th>\n",
       "      <td>1</td>\n",
       "      <td>Very comfy dress: The quality and material of ...</td>\n",
       "    </tr>\n",
       "    <tr>\n",
       "      <th>2</th>\n",
       "      <td>0</td>\n",
       "      <td>Fits nicely but fabric a bit thin: I ordered t...</td>\n",
       "    </tr>\n",
       "    <tr>\n",
       "      <th>3</th>\n",
       "      <td>1</td>\n",
       "      <td>Great fit: Love these jeans, fit and style... ...</td>\n",
       "    </tr>\n",
       "    <tr>\n",
       "      <th>4</th>\n",
       "      <td>0</td>\n",
       "      <td>Stretches out, washes poorly. wish i could ret...</td>\n",
       "    </tr>\n",
       "  </tbody>\n",
       "</table>\n",
       "</div>"
      ],
      "text/plain": [
       "   labels                                             review\n",
       "0       0  Odd fit: I wanted to love this sweater but the...\n",
       "1       1  Very comfy dress: The quality and material of ...\n",
       "2       0  Fits nicely but fabric a bit thin: I ordered t...\n",
       "3       1  Great fit: Love these jeans, fit and style... ...\n",
       "4       0  Stretches out, washes poorly. wish i could ret..."
      ]
     },
     "execution_count": 2,
     "metadata": {},
     "output_type": "execute_result"
    }
   ],
   "source": [
    "df.head()"
   ]
  },
  {
   "cell_type": "code",
   "execution_count": 3,
   "id": "085dbadf-e89f-4b96-9de4-05a1181ae799",
   "metadata": {},
   "outputs": [
    {
     "data": {
      "text/html": [
       "<div>\n",
       "<style scoped>\n",
       "    .dataframe tbody tr th:only-of-type {\n",
       "        vertical-align: middle;\n",
       "    }\n",
       "\n",
       "    .dataframe tbody tr th {\n",
       "        vertical-align: top;\n",
       "    }\n",
       "\n",
       "    .dataframe thead th {\n",
       "        text-align: right;\n",
       "    }\n",
       "</style>\n",
       "<table border=\"1\" class=\"dataframe\">\n",
       "  <thead>\n",
       "    <tr style=\"text-align: right;\">\n",
       "      <th></th>\n",
       "      <th>review</th>\n",
       "    </tr>\n",
       "    <tr>\n",
       "      <th>labels</th>\n",
       "      <th></th>\n",
       "    </tr>\n",
       "  </thead>\n",
       "  <tbody>\n",
       "    <tr>\n",
       "      <th>0</th>\n",
       "      <td>4679</td>\n",
       "    </tr>\n",
       "    <tr>\n",
       "      <th>1</th>\n",
       "      <td>15698</td>\n",
       "    </tr>\n",
       "  </tbody>\n",
       "</table>\n",
       "</div>"
      ],
      "text/plain": [
       "        review\n",
       "labels        \n",
       "0         4679\n",
       "1        15698"
      ]
     },
     "execution_count": 3,
     "metadata": {},
     "output_type": "execute_result"
    }
   ],
   "source": [
    "df.groupby('labels').count()"
   ]
  },
  {
   "cell_type": "markdown",
   "id": "18f774c4-e3f6-41d5-aabe-ba55ca0265eb",
   "metadata": {},
   "source": [
    "If you just labeled all the examples with the most prevalent label, you would this % accuracy (this is the baseline):"
   ]
  },
  {
   "cell_type": "code",
   "execution_count": 4,
   "id": "616f73c8-8dcb-4e58-8f8c-25211ab7c676",
   "metadata": {},
   "outputs": [
    {
     "data": {
      "text/plain": [
       "0.7703783677675811"
      ]
     },
     "execution_count": 4,
     "metadata": {},
     "output_type": "execute_result"
    }
   ],
   "source": [
    "df.labels.mean()"
   ]
  },
  {
   "cell_type": "markdown",
   "id": "ec9ddb40-d9b3-4413-b438-7ef76743ea25",
   "metadata": {},
   "source": [
    "## Train Model"
   ]
  },
  {
   "cell_type": "code",
   "execution_count": 5,
   "id": "2efc81e8-f8aa-4cfc-b5d8-0330c7b709ac",
   "metadata": {},
   "outputs": [],
   "source": [
    "from sklearn.feature_extraction.text import CountVectorizer\n",
    "cv = CountVectorizer(min_df=.005, max_df = .75, stop_words='english', strip_accents='ascii', )"
   ]
  },
  {
   "cell_type": "code",
   "execution_count": 6,
   "id": "37c5d3ba-8be7-43a4-aaa0-03f3f26431b1",
   "metadata": {},
   "outputs": [
    {
     "name": "stdout",
     "output_type": "stream",
     "text": [
      "766\n"
     ]
    }
   ],
   "source": [
    "res = cv.fit_transform(df['review'])\n",
    "print(len(cv.vocabulary_))"
   ]
  },
  {
   "cell_type": "code",
   "execution_count": 7,
   "id": "b95113b2-4552-4c7f-8d7c-4cde5b50db98",
   "metadata": {},
   "outputs": [
    {
     "name": "stderr",
     "output_type": "stream",
     "text": [
      "2022-07-18 11:40:29.254391: I tensorflow/core/platform/cpu_feature_guard.cc:151] This TensorFlow binary is optimized with oneAPI Deep Neural Network Library (oneDNN) to use the following CPU instructions in performance-critical operations:  SSE4.1 SSE4.2\n",
      "To enable them in other operations, rebuild TensorFlow with the appropriate compiler flags.\n"
     ]
    }
   ],
   "source": [
    "from tensorflow.keras import layers\n",
    "from tensorflow.keras import optimizers\n",
    "from tensorflow.keras import regularizers\n",
    "\n",
    "# A Nueral-Bag-Of-Words Model\n",
    "inputs = tf.keras.Input(shape=(len(cv.vocabulary_),), name='Input')\n",
    "x = layers.Dropout(0.10)(inputs)\n",
    "x = layers.Dense(15, activation=\"relu\", kernel_regularizer=regularizers.L1L2(l1=1e-5, l2=1e-4))(x)\n",
    "predictions = layers.Dense(1, activation=\"sigmoid\",)(x)\n",
    "model = tf.keras.Model(inputs, predictions)\n",
    "\n",
    "# Compile the model with binary crossentropy loss and an adam optimizer.\n",
    "opt = optimizers.Adam(learning_rate=0.002)\n",
    "model.compile(loss=\"binary_crossentropy\", optimizer=opt, metrics=[\"accuracy\"])"
   ]
  },
  {
   "cell_type": "code",
   "execution_count": 8,
   "id": "a3accff1-70bb-4a94-8228-9a288efa0d61",
   "metadata": {},
   "outputs": [
    {
     "name": "stdout",
     "output_type": "stream",
     "text": [
      "Epoch 1/10\n",
      "510/510 [==============================] - 1s 1ms/step - loss: 0.3483 - accuracy: 0.8502 - val_loss: 0.2955 - val_accuracy: 0.8744\n",
      "Epoch 2/10\n",
      "510/510 [==============================] - 1s 1ms/step - loss: 0.2911 - accuracy: 0.8820 - val_loss: 0.2954 - val_accuracy: 0.8737\n",
      "Epoch 3/10\n",
      "510/510 [==============================] - 1s 1ms/step - loss: 0.2797 - accuracy: 0.8895 - val_loss: 0.2931 - val_accuracy: 0.8822\n",
      "Epoch 4/10\n",
      "510/510 [==============================] - 1s 1ms/step - loss: 0.2700 - accuracy: 0.8942 - val_loss: 0.2996 - val_accuracy: 0.8790\n",
      "Epoch 5/10\n",
      "510/510 [==============================] - 1s 1ms/step - loss: 0.2613 - accuracy: 0.8982 - val_loss: 0.2986 - val_accuracy: 0.8793\n",
      "Epoch 6/10\n",
      "510/510 [==============================] - 1s 1ms/step - loss: 0.2506 - accuracy: 0.9049 - val_loss: 0.3059 - val_accuracy: 0.8795\n",
      "Epoch 7/10\n",
      "510/510 [==============================] - 1s 1ms/step - loss: 0.2444 - accuracy: 0.9111 - val_loss: 0.3131 - val_accuracy: 0.8795\n",
      "Epoch 8/10\n",
      "510/510 [==============================] - 1s 1ms/step - loss: 0.2347 - accuracy: 0.9131 - val_loss: 0.3207 - val_accuracy: 0.8756\n",
      "Epoch 9/10\n",
      "510/510 [==============================] - 1s 1ms/step - loss: 0.2230 - accuracy: 0.9207 - val_loss: 0.3241 - val_accuracy: 0.8756\n",
      "Epoch 10/10\n",
      "510/510 [==============================] - 1s 1ms/step - loss: 0.2166 - accuracy: 0.9260 - val_loss: 0.3364 - val_accuracy: 0.8717\n"
     ]
    },
    {
     "data": {
      "text/plain": [
       "<keras.callbacks.History at 0x7fccb2e47f70>"
      ]
     },
     "execution_count": 8,
     "metadata": {},
     "output_type": "execute_result"
    }
   ],
   "source": [
    "model.fit(x=res.toarray(), \n",
    "          y=df['labels'],\n",
    "          batch_size=32, epochs=10, validation_split=.2)"
   ]
  },
  {
   "cell_type": "code",
   "execution_count": 9,
   "id": "930cef3d-21cc-4b24-8457-e146dd660bd3",
   "metadata": {},
   "outputs": [],
   "source": [
    "# pdf = pd.read_parquet('predict.parquet')\n",
    "# pres = cv.transform(pdf['review']).toarray()"
   ]
  },
  {
   "cell_type": "code",
   "execution_count": 10,
   "id": "d59886f4-94bb-4d82-ab67-5cfce571b230",
   "metadata": {},
   "outputs": [
    {
     "data": {
      "text/plain": [
       "array([[0.02496627]], dtype=float32)"
      ]
     },
     "execution_count": 10,
     "metadata": {},
     "output_type": "execute_result"
    }
   ],
   "source": [
    "review = [\"poor fit\"]\n",
    "model.predict(cv.transform(review).toarray())"
   ]
  },
  {
   "cell_type": "code",
   "execution_count": 11,
   "id": "a8e6ecd5-538b-43dc-9baa-e87cf145d70c",
   "metadata": {},
   "outputs": [
    {
     "data": {
      "text/plain": [
       "array([[0.87660635]], dtype=float32)"
      ]
     },
     "execution_count": 11,
     "metadata": {},
     "output_type": "execute_result"
    }
   ],
   "source": [
    "review = [\"love it\"]\n",
    "model.predict(cv.transform(review).toarray())"
   ]
  }
 ],
 "metadata": {
  "kernelspec": {
   "display_name": "Python 3 (ipykernel)",
   "language": "python",
   "name": "python3"
  },
  "language_info": {
   "codemirror_mode": {
    "name": "ipython",
    "version": 3
   },
   "file_extension": ".py",
   "mimetype": "text/x-python",
   "name": "python",
   "nbconvert_exporter": "python",
   "pygments_lexer": "ipython3",
   "version": "3.9.7"
  },
  "vscode": {
   "interpreter": {
    "hash": "42fd40e048e0585f88ec242f050f7ef0895cf845a8dd1159352394e5826cd102"
   }
  }
 },
 "nbformat": 4,
 "nbformat_minor": 5
}
